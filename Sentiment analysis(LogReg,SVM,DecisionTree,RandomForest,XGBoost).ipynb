{
 "cells": [
  {
   "cell_type": "markdown",
   "id": "b4d5af46",
   "metadata": {
    "id": "b4d5af46"
   },
   "source": [
    "# NLP Challenge: IMDB Dataset of 50K Movie Reviews to perform Sentiment analysis\n",
    "\n",
    "## By Duc Nguyen Minh"
   ]
  },
  {
   "cell_type": "markdown",
   "id": "3e496040",
   "metadata": {
    "id": "3e496040"
   },
   "source": [
    "# Part 1:\n",
    "\n",
    "###  Sentiment analysis with the IMDB Dataset of 50K Movie Reviews\n",
    "Starting our journey in Natural Language Processing (NLP), we turn our attention to sentiment analysis. This tool is key for digging into the wealth of information hidden in text, like the vast collection of movie reviews in the IMDB dataset. With 50,000 reviews ready for both learning and testing, we're setting out to distinguish between positive and negative sentiments.\n",
    "\n",
    "Our adventure will cover a range of models, from well-known ones like Logistic Regression and Support Vector Machines (SVM) to newer technologies such as BERT (Bidirectional Encoder Representations from Transformers) and group strategies like Random Forest and XGBoost. Each model gives us a different way to look at our data, offering clues about how words and phrases signal good or bad reviews.\n",
    "\n",
    "A crucial step in our process is thorough Exploratory Data Analysis (EDA), where we'll dig into the data to spot trends and patterns. This will help shape how we prepare the data and adjust features for better results. We'll measure our success using metrics like accuracy, precision, recall, and the F1 score. These will not only show how well our models perform but will also help us deeply understand what each model can and can't do.\n",
    "\n",
    "Through this work, we aim to push the conversation about sentiment analysis forward within the NLP field and uncover new directions for research. We hope to find valuable insights that reach beyond just this dataset."
   ]
  },
  {
   "cell_type": "markdown",
   "id": "cffcd48a",
   "metadata": {
    "id": "cffcd48a"
   },
   "source": [
    "In our sentiment analysis project focusing on the IMDB movie reviews dataset, we're leveraging a suite of Python libraries to navigate through various stages of the machine learning pipeline. Here's a quick rundown:\n",
    "\n",
    "NumPy: For handling numerical operations with arrays.\n",
    "Pandas: Crucial for data manipulation and structured data analysis.\n",
    "OS: Useful for file operations and interacting with the operating system.\n",
    "RE: Aids in string searching and manipulation through regular expressions.\n",
    "String: Provides utilities for standard string processing.\n",
    "Scikit-learn: Offers comprehensive tools for machine learning, including data splitting, model evaluation metrics, and TF-IDF vectorization, along with several classification models like Logistic Regression and SVC.\n",
    "XGBoost: Enhances model performance through optimized distributed gradient boosting.\n",
    "Matplotlib: Enables the creation of visualizations to explore and present data insights.\n",
    "\n",
    "These libraries collectively form the backbone of our project, supporting everything from data preprocessing and feature extraction to model training, evaluation, and visualization.\n",
    "\n"
   ]
  },
  {
   "cell_type": "code",
   "execution_count": 1,
   "id": "EnarAFPEfSi4",
   "metadata": {
    "colab": {
     "base_uri": "https://localhost:8080/"
    },
    "executionInfo": {
     "elapsed": 37662,
     "status": "ok",
     "timestamp": 1726098672572,
     "user": {
      "displayName": "Duc Nguyen Minh",
      "userId": "03975086604803073654"
     },
     "user_tz": -420
    },
    "id": "EnarAFPEfSi4",
    "outputId": "eab53e62-73a2-4ad0-9884-355d473ca20b"
   },
   "outputs": [
    {
     "name": "stdout",
     "output_type": "stream",
     "text": [
      "Mounted at /content/drive\n"
     ]
    }
   ],
   "source": [
    "from google.colab import drive\n",
    "drive.mount('/content/drive')"
   ]
  },
  {
   "cell_type": "code",
   "execution_count": 4,
   "id": "dUCBJkQzfTte",
   "metadata": {
    "colab": {
     "base_uri": "https://localhost:8080/"
    },
    "executionInfo": {
     "elapsed": 1069,
     "status": "ok",
     "timestamp": 1726098742569,
     "user": {
      "displayName": "Duc Nguyen Minh",
      "userId": "03975086604803073654"
     },
     "user_tz": -420
    },
    "id": "dUCBJkQzfTte",
    "outputId": "9dbf44f9-eadf-4e1f-d99b-f86c085d6c4f"
   },
   "outputs": [
    {
     "name": "stdout",
     "output_type": "stream",
     "text": [
      "'IMDB Dataset.csv'\n",
      "'NLP Challenge IMDB Dataset of 50K Movie Reviews to perform Sentiment analysis.ipynb'\n"
     ]
    }
   ],
   "source": [
    "%ls"
   ]
  },
  {
   "cell_type": "code",
   "execution_count": 3,
   "id": "awTV8ybUff7B",
   "metadata": {
    "colab": {
     "base_uri": "https://localhost:8080/"
    },
    "executionInfo": {
     "elapsed": 629,
     "status": "ok",
     "timestamp": 1726098738248,
     "user": {
      "displayName": "Duc Nguyen Minh",
      "userId": "03975086604803073654"
     },
     "user_tz": -420
    },
    "id": "awTV8ybUff7B",
    "outputId": "822af77f-e4c9-412d-d7fb-27f9d0042097"
   },
   "outputs": [
    {
     "name": "stdout",
     "output_type": "stream",
     "text": [
      "/content/drive/MyDrive/Colab Notebooks/IMDB-Dataset-of-50K-Movie-Reviews\n"
     ]
    }
   ],
   "source": [
    "%cd drive/MyDrive/Colab Notebooks/IMDB-Dataset-of-50K-Movie-Reviews"
   ]
  },
  {
   "cell_type": "code",
   "execution_count": 5,
   "id": "d18b4a82",
   "metadata": {
    "executionInfo": {
     "elapsed": 2323,
     "status": "ok",
     "timestamp": 1726098751161,
     "user": {
      "displayName": "Duc Nguyen Minh",
      "userId": "03975086604803073654"
     },
     "user_tz": -420
    },
    "id": "d18b4a82"
   },
   "outputs": [],
   "source": [
    "# Importing necessary libraries\n",
    "import numpy as np\n",
    "import pandas as pd\n",
    "import os\n",
    "import re\n",
    "import string\n",
    "from sklearn.preprocessing import LabelEncoder\n",
    "from sklearn.model_selection import train_test_split\n",
    "from sklearn.metrics import accuracy_score, classification_report\n",
    "from sklearn.feature_extraction.text import TfidfVectorizer\n",
    "from sklearn.linear_model import LogisticRegression\n",
    "from sklearn.svm import SVC\n",
    "from sklearn.tree import DecisionTreeClassifier\n",
    "from sklearn.ensemble import RandomForestClassifier\n",
    "from xgboost import XGBClassifier\n",
    "import matplotlib.pyplot as plt"
   ]
  },
  {
   "cell_type": "markdown",
   "id": "0ea3c93c",
   "metadata": {
    "id": "0ea3c93c"
   },
   "source": [
    "The code snippet is a Python function called remove_html_tags designed to cleanse a given text string of any HTML tags. It employs regular expressions to execute two main tasks: first, it substitutes HTML line break tags (<br>, <br />, etc.) with spaces to maintain the separation of words; then, it removes all remaining HTML tags by matching anything that falls within < and > characters. Matches for line breaks are replaced with a space, while other tags are removed completely, resulting in a 'clean' text string devoid of HTML markup. This cleaning process is vital for text analysis, ensuring the data is free from HTML tags that could disrupt further processing."
   ]
  },
  {
   "cell_type": "code",
   "execution_count": 6,
   "id": "f5c6cccb",
   "metadata": {
    "executionInfo": {
     "elapsed": 578,
     "status": "ok",
     "timestamp": 1726098757376,
     "user": {
      "displayName": "Duc Nguyen Minh",
      "userId": "03975086604803073654"
     },
     "user_tz": -420
    },
    "id": "f5c6cccb"
   },
   "outputs": [],
   "source": [
    "# Define a function to remove HTML tags from the reviews\n",
    "def remove_html_tags(text):\n",
    "    # Replace HTML line break tags with spaces to maintain word separation\n",
    "    # The regex pattern '<br\\s*/?>' matches variations of the line break tag\n",
    "    # including '<br>', '<br />', and '<br/>', among others.\n",
    "    # The '\\s*' part allows for any number of spaces within the tag,\n",
    "    # and '/?>' matches both the optional closing slash and the tag end.\n",
    "    clean_text = re.sub(r'<br\\s*/?>', ' ', text)\n",
    "\n",
    "    # Remove all other HTML tags from the text\n",
    "    # The regex pattern '<.*?>' is a non-greedy match for any characters\n",
    "    # starting with '<' and ending with '>', effectively matching HTML tags.\n",
    "    # It replaces found HTML tags with an empty string, removing them.\n",
    "    # The '.*?' ensures the shortest match, preventing overreach across multiple tags.\n",
    "    clean_text = re.sub(r'<.*?>', '', clean_text)\n",
    "\n",
    "    # Return the text with HTML tags removed\n",
    "    return clean_text\n"
   ]
  },
  {
   "cell_type": "code",
   "execution_count": 7,
   "id": "2ea04964",
   "metadata": {
    "executionInfo": {
     "elapsed": 6711,
     "status": "ok",
     "timestamp": 1726098782263,
     "user": {
      "displayName": "Duc Nguyen Minh",
      "userId": "03975086604803073654"
     },
     "user_tz": -420
    },
    "id": "2ea04964"
   },
   "outputs": [],
   "source": [
    "# Load the dataset (Change the path if necessary when not running on Kaggle)\n",
    "df = pd.read_csv(r'IMDB Dataset.csv')"
   ]
  },
  {
   "cell_type": "code",
   "execution_count": 8,
   "id": "d17a686d",
   "metadata": {
    "colab": {
     "base_uri": "https://localhost:8080/"
    },
    "executionInfo": {
     "elapsed": 1038,
     "status": "ok",
     "timestamp": 1726098786026,
     "user": {
      "displayName": "Duc Nguyen Minh",
      "userId": "03975086604803073654"
     },
     "user_tz": -420
    },
    "id": "d17a686d",
    "outputId": "05846db3-8549-41f2-9940-d5ea8dc91d21"
   },
   "outputs": [
    {
     "name": "stdout",
     "output_type": "stream",
     "text": [
      "                                              review sentiment\n",
      "0  One of the other reviewers has mentioned that ...  positive\n",
      "1  A wonderful little production. <br /><br />The...  positive\n",
      "2  I thought this was a wonderful way to spend ti...  positive\n",
      "3  Basically there's a family where a little boy ...  negative\n",
      "4  Petter Mattei's \"Love in the Time of Money\" is...  positive\n",
      "<class 'pandas.core.frame.DataFrame'>\n",
      "RangeIndex: 50000 entries, 0 to 49999\n",
      "Data columns (total 2 columns):\n",
      " #   Column     Non-Null Count  Dtype \n",
      "---  ------     --------------  ----- \n",
      " 0   review     50000 non-null  object\n",
      " 1   sentiment  50000 non-null  object\n",
      "dtypes: object(2)\n",
      "memory usage: 781.4+ KB\n"
     ]
    }
   ],
   "source": [
    "print(df.head(5))\n",
    "df.info()"
   ]
  },
  {
   "cell_type": "markdown",
   "id": "ac5f8a90",
   "metadata": {
    "id": "ac5f8a90"
   },
   "source": [
    "#  Data Preprocessing\n",
    "The code performs several key preprocessing steps on a dataset of reviews to prepare it for sentiment analysis:\n",
    "\n",
    "Remove Duplicates: It first eliminates any duplicate entries to ensure each review is unique, helping to prevent bias in the analysis.\n",
    "Convert Sentiment Labels: Sentiments expressed as text ('positive', 'negative') are converted to numerical values (e.g., 1, 0) using LabelEncoder, making the data suitable for machine learning models.\n",
    "Standardize Text: All review texts are converted to lowercase and cleaned of HTML tags to create a consistent format. Lowercasing ensures uniformity, while removing HTML tags eliminates irrelevant markup from the analysis.\n",
    "Remove Punctuation: Finally, punctuation is stripped from the reviews to reduce noise, focusing on the textual content that contributes to sentiment.\n",
    "This preprocessing streamlines the dataset, enabling more effective sentiment analysis by focusing on the textual content most relevant to understanding sentiments."
   ]
  },
  {
   "cell_type": "code",
   "execution_count": 9,
   "id": "cd15cff6",
   "metadata": {
    "colab": {
     "base_uri": "https://localhost:8080/"
    },
    "executionInfo": {
     "elapsed": 2146,
     "status": "ok",
     "timestamp": 1726098794219,
     "user": {
      "displayName": "Duc Nguyen Minh",
      "userId": "03975086604803073654"
     },
     "user_tz": -420
    },
    "id": "cd15cff6",
    "outputId": "e978fc5d-4da4-4b14-e543-8c97521c0aa6"
   },
   "outputs": [
    {
     "name": "stderr",
     "output_type": "stream",
     "text": [
      "<ipython-input-9-f1f44823520a>:10: SettingWithCopyWarning: \n",
      "A value is trying to be set on a copy of a slice from a DataFrame.\n",
      "Try using .loc[row_indexer,col_indexer] = value instead\n",
      "\n",
      "See the caveats in the documentation: https://pandas.pydata.org/pandas-docs/stable/user_guide/indexing.html#returning-a-view-versus-a-copy\n",
      "  df['sentiment'] = LabelEncoder().fit_transform(df['sentiment'])\n"
     ]
    }
   ],
   "source": [
    "# Data Preprocessing\n",
    "\n",
    "# Remove duplicates from the DataFrame to ensure each review is unique,\n",
    "# preventing any bias towards repeated reviews in our analysis.\n",
    "df = df.drop_duplicates()\n",
    "\n",
    "# Convert sentiment labels (e.g., 'positive', 'negative') to numerical values (e.g., 1, 0)\n",
    "# This conversion is necessary as machine learning models require numerical input.\n",
    "# LabelEncoder is used here to transform the sentiment labels into integers.\n",
    "df['sentiment'] = LabelEncoder().fit_transform(df['sentiment'])\n",
    "\n",
    "# Lowercase all text in the 'review' column to standardize the data,\n",
    "# ensuring that the same words in different cases are treated as the same word.\n",
    "# Additionally, apply the 'remove_html_tags' function to each review to clean HTML tags.\n",
    "# This is important as HTML tags are not relevant to sentiment analysis and can\n",
    "# interfere with text processing.\n",
    "df['review'] = df['review'].str.lower().apply(remove_html_tags)\n",
    "\n",
    "# Remove all punctuation from the reviews.\n",
    "# Punctuation marks are typically not useful for sentiment analysis and can be\n",
    "# considered noise in the text. Removing them simplifies the dataset,\n",
    "# making it more uniform and easier to process.\n",
    "# The 'translate' method is used here with a translation table that maps\n",
    "# punctuation marks to None (effectively deleting them).\n",
    "df['review'] = df['review'].str.translate(str.maketrans('', '', string.punctuation))\n",
    "\n"
   ]
  },
  {
   "cell_type": "code",
   "execution_count": 10,
   "id": "aa85e0d9",
   "metadata": {
    "colab": {
     "base_uri": "https://localhost:8080/"
    },
    "executionInfo": {
     "elapsed": 1044,
     "status": "ok",
     "timestamp": 1726098798658,
     "user": {
      "displayName": "Duc Nguyen Minh",
      "userId": "03975086604803073654"
     },
     "user_tz": -420
    },
    "id": "aa85e0d9",
    "outputId": "c5a136ab-56df-4500-abd7-7fb941890101"
   },
   "outputs": [
    {
     "name": "stdout",
     "output_type": "stream",
     "text": [
      "                                              review  sentiment\n",
      "0  one of the other reviewers has mentioned that ...          1\n",
      "1  a wonderful little production   the filming te...          1\n",
      "2  i thought this was a wonderful way to spend ti...          1\n",
      "3  basically theres a family where a little boy j...          0\n",
      "4  petter matteis love in the time of money is a ...          1\n"
     ]
    }
   ],
   "source": [
    "print(df.head(5))"
   ]
  },
  {
   "cell_type": "code",
   "execution_count": 11,
   "id": "7f3f4055",
   "metadata": {
    "executionInfo": {
     "elapsed": 749,
     "status": "ok",
     "timestamp": 1726098803722,
     "user": {
      "displayName": "Duc Nguyen Minh",
      "userId": "03975086604803073654"
     },
     "user_tz": -420
    },
    "id": "7f3f4055"
   },
   "outputs": [],
   "source": [
    "# Split data into training and testing sets\n",
    "\n",
    "# Extract 'review' column as the input features (X) for the model.\n",
    "# These are the cleaned and preprocessed textual reviews that will be used\n",
    "# to train the model to recognize sentiment.\n",
    "X = df['review']\n",
    "\n",
    "# Extract 'sentiment' column as the target variable (y) for the model.\n",
    "# These are the numerical sentiment labels that the model will attempt to predict,\n",
    "# corresponding to the sentiment expressed in each review.\n",
    "y = df['sentiment']\n",
    "\n",
    "# Use the train_test_split function to divide the data into training and testing sets.\n",
    "# - The training set (X_train, y_train) is used to train the model.\n",
    "# - The testing set (X_test, y_test) is used to evaluate the model's performance.\n",
    "# The 'test_size=0.2' parameter specifies that 20% of the data should be reserved\n",
    "# for testing, with the remaining 80% used for training.\n",
    "# The 'random_state=42' parameter ensures reproducibility of the split by fixing\n",
    "# the seed for the random number generator used to select records for each set.\n",
    "X_train, X_test, y_train, y_test = train_test_split(X, y, test_size=0.2, random_state=42)\n",
    "\n"
   ]
  },
  {
   "cell_type": "markdown",
   "id": "b45d3183",
   "metadata": {
    "id": "b45d3183"
   },
   "source": [
    "# Explanation of the Visualizations:\n",
    "Sentiment Distribution: This bar chart provides a straightforward comparison between the number of positive and negative reviews in the dataset. A balanced chart suggests that the dataset is well-suited for binary classification tasks, as the model has an equal amount of examples from each class to learn from. If the distribution is significantly imbalanced, it might influence the model training process, possibly requiring techniques to handle imbalance.\n",
    "\n",
    "Review Length Distribution: The histogram of review lengths shows how short or long the reviews tend to be, with the x-axis representing the length of reviews and the y-axis showing how many reviews fall into each length interval. Understanding this distribution is crucial for setting parameters in the NLP pipeline, such as the maximum sequence length for models like BERT. It also helps in identifying outliers (extremely short or long reviews) that might need special handling during preprocessing.\n",
    "\n",
    "These visualizations are fundamental for gaining insights into the dataset and guiding the preprocessing and modeling steps in NLP tasks."
   ]
  },
  {
   "cell_type": "code",
   "execution_count": 12,
   "id": "2b1f3566",
   "metadata": {
    "colab": {
     "base_uri": "https://localhost:8080/",
     "height": 1000
    },
    "executionInfo": {
     "elapsed": 1217,
     "status": "ok",
     "timestamp": 1726098808738,
     "user": {
      "displayName": "Duc Nguyen Minh",
      "userId": "03975086604803073654"
     },
     "user_tz": -420
    },
    "id": "2b1f3566",
    "outputId": "c922d191-e3df-4650-b980-c8cb50874be9"
   },
   "outputs": [
    {
     "data": {
      "image/png": "[encoded data removed]",
      "text/plain": [
       "<Figure size 800x600 with 1 Axes>"
      ]
     },
     "metadata": {},
     "output_type": "display_data"
    },
    {
     "data": {
      "image/png": "[encoded data removed]",
      "text/plain": [
       "<Figure size 800x600 with 1 Axes>"
      ]
     },
     "metadata": {},
     "output_type": "display_data"
    }
   ],
   "source": [
    "import matplotlib.pyplot as plt\n",
    "import seaborn as sns\n",
    "\n",
    "# Sentiment Distribution\n",
    "plt.figure(figsize=(8, 6))\n",
    "sns.countplot(x='sentiment', data=df)\n",
    "plt.title('Distribution of Sentiments')\n",
    "plt.xlabel('Sentiment')\n",
    "plt.ylabel('Number of Reviews')\n",
    "plt.show()\n",
    "\n",
    "# Review Length Distribution\n",
    "review_lengths = df['review'].apply(len)\n",
    "plt.figure(figsize=(8, 6))\n",
    "sns.histplot(review_lengths, bins=30)\n",
    "plt.title('Distribution of Review Lengths')\n",
    "plt.xlabel('Review Length')\n",
    "plt.ylabel('Number of Reviews')\n",
    "plt.show()\n"
   ]
  },
  {
   "cell_type": "markdown",
   "id": "bcb872d2",
   "metadata": {
    "id": "bcb872d2"
   },
   "source": [
    "# Model Training and Evaluation\n",
    "\n",
    "\n",
    "This section of code prepares the input data for modeling by converting the raw text into numerical data that reflects not only the presence of words but also their importance in the documents, using the TF-IDF scheme."
   ]
  },
  {
   "cell_type": "code",
   "execution_count": 13,
   "id": "76f0cf80",
   "metadata": {
    "executionInfo": {
     "elapsed": 14773,
     "status": "ok",
     "timestamp": 1726098865520,
     "user": {
      "displayName": "Duc Nguyen Minh",
      "userId": "03975086604803073654"
     },
     "user_tz": -420
    },
    "id": "76f0cf80"
   },
   "outputs": [],
   "source": [
    "# TF-IDF Vectorization\n",
    "\n",
    "# Initialize the TfidfVectorizer with a maximum of 5000 features.\n",
    "# TfidfVectorizer converts a collection of raw documents into a matrix of TF-IDF features.\n",
    "# - 'max_features=5000' limits the number of features (vocabulary) that the vectorizer will learn.\n",
    "# It prioritizes the top 5000 terms by term frequency across the corpus.\n",
    "# This can help improve efficiency and manageability of the data, focusing on the most relevant words.\n",
    "tfidf_vectorizer = TfidfVectorizer(max_features=5000)\n",
    "\n",
    "# Fit the vectorizer to the training data and transform the text in 'X_train' into a sparse matrix\n",
    "# of TF-IDF features. This step learns the vocabulary and idf from the training set.\n",
    "# 'fit_transform' is used on the training data so the vectorizer learns the IDF (inverse document frequency)\n",
    "# weights from the actual training data, then applies the TF-IDF transformation to the training data.\n",
    "X_train_tfidf = tfidf_vectorizer.fit_transform(X_train)\n",
    "\n",
    "# Transform the text in 'X_test' into a sparse matrix of TF-IDF features using the same vectorizer.\n",
    "# Here, 'transform' is used instead of 'fit_transform' because we use the IDF weights learned from\n",
    "# the training data to transform the test data. This ensures that the same feature set and IDF\n",
    "# weights are applied to both training and test sets, making them compatible for model training and evaluation.\n",
    "X_test_tfidf = tfidf_vectorizer.transform(X_test)\n",
    "\n"
   ]
  },
  {
   "cell_type": "markdown",
   "id": "b517d3f1",
   "metadata": {
    "id": "b517d3f1"
   },
   "source": [
    "The below code trains and evaluates a Logistic Regression model for sentiment classification using TF-IDF vectorized text data. It first fits the model to the training data, then predicts sentiments on the test set, calculates the model's accuracy, and finally prints the accuracy along with a detailed classification report that includes precision, recall, and f1-score for each sentiment class."
   ]
  },
  {
   "cell_type": "code",
   "execution_count": 14,
   "id": "c3572427",
   "metadata": {
    "colab": {
     "base_uri": "https://localhost:8080/"
    },
    "executionInfo": {
     "elapsed": 2104,
     "status": "ok",
     "timestamp": 1726098877623,
     "user": {
      "displayName": "Duc Nguyen Minh",
      "userId": "03975086604803073654"
     },
     "user_tz": -420
    },
    "id": "c3572427",
    "outputId": "e183a1e6-958d-4317-c0a4-c5c42d50b70d"
   },
   "outputs": [
    {
     "name": "stdout",
     "output_type": "stream",
     "text": [
      "Logistic Regression Accuracy: 0.8909952606635071\n",
      "              precision    recall  f1-score   support\n",
      "\n",
      "           0       0.90      0.88      0.89      4939\n",
      "           1       0.88      0.90      0.89      4978\n",
      "\n",
      "    accuracy                           0.89      9917\n",
      "   macro avg       0.89      0.89      0.89      9917\n",
      "weighted avg       0.89      0.89      0.89      9917\n",
      "\n"
     ]
    }
   ],
   "source": [
    "# Model Training and Evaluation\n",
    "\n",
    "# Logistic Regression\n",
    "\n",
    "# Initialize the Logistic Regression model.\n",
    "# Logistic Regression is a linear model for classification rather than regression.\n",
    "# It is used here because we are predicting binary outcomes (e.g., positive vs. negative sentiment).\n",
    "logreg_model = LogisticRegression()\n",
    "\n",
    "# Train the Logistic Regression model on the training data.\n",
    "# The model learns to associate the TF-IDF features from reviews (X_train_tfidf) with the sentiments (y_train).\n",
    "logreg_model.fit(X_train_tfidf, y_train)\n",
    "\n",
    "# Predict sentiments for the test dataset using the trained Logistic Regression model.\n",
    "# The model uses the TF-IDF features from the unseen test data (X_test_tfidf) to predict sentiments.\n",
    "logreg_pred = logreg_model.predict(X_test_tfidf)\n",
    "\n",
    "# Calculate the accuracy of the Logistic Regression model on the test data.\n",
    "# Accuracy is the fraction of predictions our model got right, i.e., the number of correct predictions\n",
    "# divided by the total number of predictions.\n",
    "logreg_accuracy = accuracy_score(y_test, logreg_pred)\n",
    "print(\"Logistic Regression Accuracy:\", logreg_accuracy)\n",
    "\n",
    "# Print a classification report to evaluate the performance of the Logistic Regression model.\n",
    "# The classification report includes key metrics like precision, recall, and f1-score for each class.\n",
    "# - Precision is the ratio of correctly predicted positive observations to the total predicted positives.\n",
    "# - Recall (Sensitivity) is the ratio of correctly predicted positive observations to all the actual positives.\n",
    "# - F1 Score is the weighted average of Precision and Recall.\n",
    "print(classification_report(y_test, logreg_pred))\n"
   ]
  },
  {
   "cell_type": "markdown",
   "id": "47c5a459",
   "metadata": {
    "id": "47c5a459"
   },
   "source": [
    "The Logistic Regression model achieved an accuracy of approximately 89.10% in classifying sentiments of movie reviews into positive and negative categories. The detailed performance metrics are as follows:\n",
    "\n",
    "### For negative reviews (label 0):\n",
    "The model has a precision of 0.90 (90% of reviews predicted as negative are actually negative) and a recall of 0.88 (it correctly identifies 88% of the actual negative reviews), resulting in an F1-score of 0.89.\n",
    "\n",
    "### For positive reviews (label 1):\n",
    "The precision is 0.88 (88% of reviews predicted as positive are indeed positive) and recall is 0.90 (correctly identifies 90% of the actual positive reviews), with an F1-score of 0.89.\n",
    "\n",
    "Overall, the model shows balanced performance across both classes with a solid F1-score of 0.89, indicating a harmonious balance of precision and recall. The equal accuracy across both sentiments suggests that the model is equally effective at identifying both positive and negative reviews."
   ]
  },
  {
   "cell_type": "markdown",
   "id": "c5ba3ce3",
   "metadata": {
    "id": "c5ba3ce3"
   },
   "source": [
    "This section of code sets up and evaluates a Support Vector Machine (SVM) classifier with a linear kernel for sentiment classification. After training on the TF-IDF vectorized training data, the model's accuracy and detailed performance metrics are calculated and displayed, providing insights into its effectiveness at sentiment prediction."
   ]
  },
  {
   "cell_type": "code",
   "execution_count": 15,
   "id": "2138ae86",
   "metadata": {
    "colab": {
     "base_uri": "https://localhost:8080/"
    },
    "executionInfo": {
     "elapsed": 1281860,
     "status": "ok",
     "timestamp": 1726100184025,
     "user": {
      "displayName": "Duc Nguyen Minh",
      "userId": "03975086604803073654"
     },
     "user_tz": -420
    },
    "id": "2138ae86",
    "outputId": "521014ef-88cb-4fca-9f7f-f1a5c2bd9a7f"
   },
   "outputs": [
    {
     "name": "stdout",
     "output_type": "stream",
     "text": [
      "SVM Accuracy: 0.8929111626499949\n",
      "              precision    recall  f1-score   support\n",
      "\n",
      "           0       0.90      0.88      0.89      4939\n",
      "           1       0.89      0.90      0.89      4978\n",
      "\n",
      "    accuracy                           0.89      9917\n",
      "   macro avg       0.89      0.89      0.89      9917\n",
      "weighted avg       0.89      0.89      0.89      9917\n",
      "\n"
     ]
    }
   ],
   "source": [
    "# SVM (Support Vector Machine)\n",
    "\n",
    "# Initialize the Support Vector Machine (SVM) model with a linear kernel.\n",
    "# The SVM model is a powerful tool for classification tasks, and using a linear kernel\n",
    "# helps in finding a linear boundary that separates the data into classes.\n",
    "svm_model = SVC(kernel='linear')\n",
    "\n",
    "# Train the SVM model on the TF-IDF vectorized training data.\n",
    "# This step involves finding the hyperplane that best divides the dataset into classes\n",
    "# based on the features extracted from the text data (TF-IDF vectors).\n",
    "svm_model.fit(X_train_tfidf, y_train)\n",
    "\n",
    "# Use the trained SVM model to predict the sentiments of the test dataset.\n",
    "# The model applies the learned decision boundary to the TF-IDF features of the test data\n",
    "# to predict if each review is positive or negative.\n",
    "svm_pred = svm_model.predict(X_test_tfidf)\n",
    "\n",
    "# Calculate and print the accuracy of the SVM model on the test data.\n",
    "# Accuracy is the proportion of test reviews for which the predicted sentiment matches the actual sentiment.\n",
    "svm_accuracy = accuracy_score(y_test, svm_pred)\n",
    "print(\"SVM Accuracy:\", svm_accuracy)\n",
    "\n",
    "# Print a detailed classification report showing precision, recall, f1-score, and support for each class.\n",
    "# These metrics provide deeper insights into the model's performance, especially its ability to\n",
    "# correctly identify positive and negative reviews (precision) and its coverage of the actual positive\n",
    "# and negative reviews in the dataset (recall).\n",
    "print(classification_report(y_test, svm_pred))\n"
   ]
  },
  {
   "cell_type": "markdown",
   "id": "4f736bf7",
   "metadata": {
    "id": "4f736bf7"
   },
   "source": [
    "The Support Vector Machine (SVM) model, employing a linear kernel for sentiment classification, achieved an accuracy of approximately 89.29%. The detailed performance metrics reveal:\n",
    "\n",
    "### For negative reviews (label 0):\n",
    "The model demonstrates a precision of 0.90 (indicating that 90% of reviews predicted as negative are correctly identified) and a recall of 0.88 (showing it correctly identifies 88% of the actual negative reviews), resulting in an F1-score of 0.89. This signifies a balanced performance in correctly identifying negative sentiments.\n",
    "\n",
    "### For positive reviews (label 1):\n",
    "the model has a precision of 0.89 (89% of reviews predicted as positive are indeed positive) and a recall of 0.90 (it accurately identifies 90% of the actual positive reviews), with an F1-score of 0.89. This reflects a similarly strong performance in recognizing positive sentiments.\n",
    "\n",
    "The metrics indicate a nearly equal and high level of performance across both sentiment classes, demonstrating the SVM model's effectiveness in classifying both positive and negative movie reviews with high precision and recall. The balanced F1-score of 0.89 for both classes underscores the model's capability to maintain a harmonious balance between precision and recall across sentiment classifications."
   ]
  },
  {
   "cell_type": "markdown",
   "id": "5f811d00",
   "metadata": {
    "id": "5f811d00"
   },
   "source": [
    "This section of code below focuses on setting up, training, and evaluating a Decision Tree Classifier for sentiment classification. The comments explain the purpose and functionality of each step, including model initialization, training, prediction, and performance evaluation."
   ]
  },
  {
   "cell_type": "code",
   "execution_count": 16,
   "id": "684b9a6f",
   "metadata": {
    "colab": {
     "base_uri": "https://localhost:8080/"
    },
    "executionInfo": {
     "elapsed": 79732,
     "status": "ok",
     "timestamp": 1726100641425,
     "user": {
      "displayName": "Duc Nguyen Minh",
      "userId": "03975086604803073654"
     },
     "user_tz": -420
    },
    "id": "684b9a6f",
    "outputId": "963557dc-8938-4c2e-fa3e-f226a705cab4"
   },
   "outputs": [
    {
     "name": "stdout",
     "output_type": "stream",
     "text": [
      "Decision Tree Accuracy: 0.7084803872138752\n",
      "              precision    recall  f1-score   support\n",
      "\n",
      "           0       0.71      0.71      0.71      4939\n",
      "           1       0.71      0.71      0.71      4978\n",
      "\n",
      "    accuracy                           0.71      9917\n",
      "   macro avg       0.71      0.71      0.71      9917\n",
      "weighted avg       0.71      0.71      0.71      9917\n",
      "\n"
     ]
    }
   ],
   "source": [
    "# Decision Tree Classifier\n",
    "\n",
    "# Initialize the Decision Tree Classifier model with a specified random state.\n",
    "# Decision Tree Classifier is a model that uses a tree-like graph of decisions and their possible consequences.\n",
    "# 'random_state=42' is set to ensure reproducibility of the results by fixing the seed used by the random number generator.\n",
    "dt_model = DecisionTreeClassifier(random_state=42)\n",
    "\n",
    "# Train the Decision Tree model on the training data.\n",
    "# This involves the model learning from the TF-IDF vectorized text data (X_train_tfidf) associated with the training sentiments (y_train).\n",
    "# The training process involves making splits at various levels of the decision tree to classify the sentiments as accurately as possible.\n",
    "dt_model.fit(X_train_tfidf, y_train)\n",
    "\n",
    "# Use the trained Decision Tree model to predict sentiments on the test data.\n",
    "# The model applies its learned decision rules to the TF-IDF features of the unseen test data (X_test_tfidf)\n",
    "# to predict whether each review expresses a positive or negative sentiment.\n",
    "dt_pred = dt_model.predict(X_test_tfidf)\n",
    "\n",
    "# Calculate the accuracy of the Decision Tree model on the test data.\n",
    "# Accuracy measures the proportion of test reviews for which the model's predicted sentiment matches the actual sentiment.\n",
    "dt_accuracy = accuracy_score(y_test, dt_pred)\n",
    "print(\"Decision Tree Accuracy:\", dt_accuracy)\n",
    "\n",
    "# Print a detailed classification report that includes key metrics for evaluating the model's performance.\n",
    "# The report includes precision, recall, and f1-score for both sentiment classes, providing insight into the model's effectiveness\n",
    "# at identifying positive and negative sentiments and its overall accuracy.\n",
    "print(classification_report(y_test, dt_pred))\n"
   ]
  },
  {
   "cell_type": "markdown",
   "id": "fa7e71a4",
   "metadata": {
    "id": "fa7e71a4"
   },
   "source": [
    "\n",
    "The Decision Tree model achieved an accuracy of approximately 70.85% in classifying the sentiments of movie reviews. Here's a breakdown of its performance:\n",
    "\n",
    "The precision for both negative (0) and positive (1) reviews is 0.71, meaning the model correctly identifies 71% of reviews for both sentiments.\n",
    "The recall, which measures how well the model identifies all relevant instances, is also 0.71 for both sentiments, indicating the model correctly identifies 71% of actual negatives and positives.\n",
    "\n",
    "The F1-score, a balance of precision and recall, is 0.71 for both classes, showing a balanced performance in correctly classifying both positive and negative reviews.\n",
    "\n",
    "The Decision Tree model shows equal and moderate effectiveness in identifying positive and negative sentiments within the dataset, as reflected by its consistent precision, recall, and F1-scores across both classes."
   ]
  },
  {
   "cell_type": "code",
   "execution_count": 17,
   "id": "4998a007",
   "metadata": {
    "colab": {
     "base_uri": "https://localhost:8080/"
    },
    "executionInfo": {
     "elapsed": 147881,
     "status": "ok",
     "timestamp": 1726100804449,
     "user": {
      "displayName": "Duc Nguyen Minh",
      "userId": "03975086604803073654"
     },
     "user_tz": -420
    },
    "id": "4998a007",
    "outputId": "ae0501ba-7a1a-4161-97a5-0274247fc110"
   },
   "outputs": [
    {
     "name": "stdout",
     "output_type": "stream",
     "text": [
      "Random Forest Accuracy: 0.835232429162045\n",
      "              precision    recall  f1-score   support\n",
      "\n",
      "           0       0.83      0.84      0.83      4939\n",
      "           1       0.84      0.83      0.84      4978\n",
      "\n",
      "    accuracy                           0.84      9917\n",
      "   macro avg       0.84      0.84      0.84      9917\n",
      "weighted avg       0.84      0.84      0.84      9917\n",
      "\n"
     ]
    }
   ],
   "source": [
    "# Random Forest Classifier\n",
    "\n",
    "# Initialize the Random Forest Classifier model with a specific random state for reproducibility.\n",
    "# Random Forest is an ensemble learning method that operates by constructing a multitude of decision trees at training time\n",
    "# and outputting the class that is the mode of the classes (classification) of the individual trees.\n",
    "# 'random_state=42' ensures that the same set of random splits in the data is used every time you run the code,\n",
    "# allowing for consistent results across different runs.\n",
    "rf_model = RandomForestClassifier(random_state=42)\n",
    "\n",
    "# Train the Random Forest model on the training data.\n",
    "# This step involves building multiple decision trees on various sub-samples of the dataset\n",
    "# and using averaging to improve the predictive accuracy and control over-fitting.\n",
    "# The training process uses the TF-IDF vectorized text data (X_train_tfidf) and associated sentiments (y_train).\n",
    "rf_model.fit(X_train_tfidf, y_train)\n",
    "\n",
    "# Use the trained Random Forest model to predict sentiments on the test data.\n",
    "# The model applies its ensemble of decision trees to the TF-IDF features of the unseen test data (X_test_tfidf)\n",
    "# to predict the sentiment (positive or negative) of each review.\n",
    "rf_pred = rf_model.predict(X_test_tfidf)\n",
    "\n",
    "# Calculate the accuracy of the Random Forest model on the test data.\n",
    "# Accuracy is calculated as the number of correct predictions divided by the total number of predictions,\n",
    "# which provides a straightforward measure of how well the model performs on unseen data.\n",
    "rf_accuracy = accuracy_score(y_test, rf_pred)\n",
    "print(\"Random Forest Accuracy:\", rf_accuracy)\n",
    "\n",
    "# Print a detailed classification report to evaluate the performance of the Random Forest model further.\n",
    "# The classification report includes precision, recall, and f1-score for each sentiment class,\n",
    "# offering insights into the model's ability to identify positive and negative reviews accurately.\n",
    "# Precision measures the accuracy of positive predictions, recall measures the ability to find all positive instances,\n",
    "# and the F1-score provides a balance between precision and recall.\n",
    "print(classification_report(y_test, rf_pred))\n",
    "\n"
   ]
  },
  {
   "cell_type": "markdown",
   "id": "c744bddd",
   "metadata": {
    "id": "c744bddd"
   },
   "source": [
    "The Random Forest model demonstrated an accuracy of approximately 83.52% in classifying movie reviews into positive and negative sentiments. The performance metrics detail the following:\n",
    "\n",
    "### Precision:\n",
    "The model has a precision of 0.83 for negative reviews and 0.84 for positive reviews, indicating a high level of reliability in its predictions across both categories.\n",
    "Recall: The recall scores are closely matched, with 0.84 for negative reviews and 0.83 for positive ones, showing the model's robustness in identifying all relevant instances for both sentiments.\n",
    "\n",
    "### F1-Score:\n",
    "The F1-scores, which balance precision and recall, stand at 0.83 for negative and 0.84 for positive reviews, underscoring a consistent performance in accurately classifying both sentiments.\n",
    "\n",
    "The Random Forest Classifier exhibits strong and balanced performance, effectively distinguishing between positive and negative movie reviews with high accuracy, precision, recall, and F1-scores.\n",
    "\n",
    "\n",
    "\n",
    "\n",
    "\n",
    "\n"
   ]
  },
  {
   "cell_type": "markdown",
   "id": "bbe9ee50",
   "metadata": {
    "id": "bbe9ee50"
   },
   "source": [
    "This code block outlines the setup, training, and evaluation of an XGBoost Classifier for sentiment classification, explaining the choice of parameters and the purpose of each step in the process."
   ]
  },
  {
   "cell_type": "code",
   "execution_count": 18,
   "id": "2088c9bb",
   "metadata": {
    "colab": {
     "base_uri": "https://localhost:8080/"
    },
    "executionInfo": {
     "elapsed": 108279,
     "status": "ok",
     "timestamp": 1726101680954,
     "user": {
      "displayName": "Duc Nguyen Minh",
      "userId": "03975086604803073654"
     },
     "user_tz": -420
    },
    "id": "2088c9bb",
    "outputId": "c11d4ea0-1cd5-4219-9515-9e03216cd91c"
   },
   "outputs": [
    {
     "name": "stderr",
     "output_type": "stream",
     "text": [
      "/usr/local/lib/python3.10/dist-packages/xgboost/core.py:158: UserWarning: [00:39:34] WARNING: /workspace/src/learner.cc:740: \n",
      "Parameters: { \"use_label_encoder\" } are not used.\n",
      "\n",
      "  warnings.warn(smsg, UserWarning)\n"
     ]
    },
    {
     "name": "stdout",
     "output_type": "stream",
     "text": [
      "XGBoost Accuracy: 0.8544922859735807\n",
      "              precision    recall  f1-score   support\n",
      "\n",
      "           0       0.87      0.83      0.85      4939\n",
      "           1       0.84      0.88      0.86      4978\n",
      "\n",
      "    accuracy                           0.85      9917\n",
      "   macro avg       0.86      0.85      0.85      9917\n",
      "weighted avg       0.86      0.85      0.85      9917\n",
      "\n"
     ]
    }
   ],
   "source": [
    "# XGBoost Classifier\n",
    "\n",
    "# Initialize the XGBoost Classifier model with specific parameters.\n",
    "# 'random_state=42' ensures reproducibility of results by controlling randomization in the bootstrapping process.\n",
    "# 'use_label_encoder=False' opts out of the deprecated label encoder to avoid warning messages.\n",
    "# 'eval_metric='logloss'' sets the evaluation metric to log loss, which is suitable for binary classification tasks.\n",
    "# XGBoost is an advanced implementation of gradient boosted decision trees designed for speed and performance.\n",
    "xgb_model = XGBClassifier(random_state=42, use_label_encoder=False, eval_metric='logloss')\n",
    "\n",
    "# Train the XGBoost model on the TF-IDF vectorized training data.\n",
    "# This involves the model learning from the text data (X_train_tfidf) and the associated sentiments (y_train),\n",
    "# optimizing its parameters to minimize the log loss and improve prediction accuracy.\n",
    "xgb_model.fit(X_train_tfidf, y_train)\n",
    "\n",
    "# Use the trained XGBoost model to predict the sentiments of the test dataset.\n",
    "# The model applies the learned patterns to the TF-IDF features of the test data (X_test_tfidf)\n",
    "# to classify each review as expressing a positive or negative sentiment.\n",
    "xgb_pred = xgb_model.predict(X_test_tfidf)\n",
    "\n",
    "# Calculate the accuracy of the XGBoost model on the test data.\n",
    "# Accuracy measures the proportion of correctly predicted sentiments out of all predictions,\n",
    "# providing a straightforward metric to evaluate the model's performance.\n",
    "xgb_accuracy = accuracy_score(y_test, xgb_pred)\n",
    "print(\"XGBoost Accuracy:\", xgb_accuracy)\n",
    "\n",
    "# Print a detailed classification report to further evaluate the XGBoost model's performance.\n",
    "# The report includes precision, recall, and f1-score for each class (positive and negative sentiments),\n",
    "# offering a comprehensive view of the model's ability to accurately and reliably classify sentiments.\n",
    "# These metrics are crucial for understanding the model's strengths and areas for improvement.\n",
    "print(classification_report(y_test, xgb_pred))\n"
   ]
  },
  {
   "cell_type": "markdown",
   "id": "46d89ec8",
   "metadata": {
    "id": "46d89ec8"
   },
   "source": [
    "The XGBoost Classifier showcased an accuracy of approximately 85.14% in distinguishing between positive and negative sentiments in movie reviews. Here's a breakdown of its performance:\n",
    "\n",
    "### Precision:\n",
    "It demonstrated a precision of 0.87 for negative reviews, indicating that 87% of negative predictions were correct, and 0.84 for positive reviews, meaning 84% of positive predictions were accurate.\n",
    "\n",
    "### Recall:\n",
    "The recall was 0.83 for negative reviews, showing that the model successfully identified 83% of all actual negative sentiments, and 0.87 for positive reviews, indicating it identified 87% of all actual positive sentiments.\n",
    "\n",
    "### F1-Score:\n",
    "The balanced F1-scores were 0.85 for both negative and positive reviews, reflecting a strong balance between precision and recall across sentiment classifications.\n",
    "\n",
    "The metrics indicate a strong performance by the XGBoost model in sentiment classification, with a slightly higher effectiveness in identifying positive sentiments over negative ones, as evidenced by the recall rates.\n",
    "\n",
    "The model achieves high precision, recall, and F1-scores, underlining its effectiveness in classifying sentiments with a notable degree of accuracy.\n",
    "\n"
   ]
  },
  {
   "cell_type": "markdown",
   "id": "0cf6b1d6",
   "metadata": {
    "id": "0cf6b1d6"
   },
   "source": [
    "# Model Performance Overview\n",
    "\n",
    "### Logistic Regression:\n",
    "Accuracy: 89.09%\n",
    "Shows surprisingly high performance for such a simple model. This indicates that linear models can still be very effective on datasets where the relationship between features and targets is not highly nonlinear.\n",
    "\n",
    "### Support Vector Machine (SVM):\n",
    "Accuracy: 89.29%\n",
    "Similar to logistic regression, it performs very well. SVMs are particularly good at handling high-dimensional data and non-linear relationships if an appropriate kernel is used.\n",
    "\n",
    "### Decision Tree:\n",
    "Accuracy: 70.84%\n",
    "As expected, decision trees alone without ensemble techniques perform worse than the other models. They are prone to overfitting and might not capture the complexity of language data well.\n",
    "\n",
    "### Random Forest:\n",
    "Accuracy: 83.52%\n",
    "An ensemble method that improves upon the single decision tree's accuracy but still falls short of the linear models and XGBoost.\n",
    "\n",
    "### XGBoost:\n",
    "Accuracy: 85.14%\n",
    "This gradient boosting model outperforms the ensemble random forest and comes close to the performance of the linear models, showcasing its strength in handling tabular data and complex relationships.\n"
   ]
  },
  {
   "cell_type": "markdown",
   "id": "7140e127",
   "metadata": {
    "id": "7140e127"
   },
   "source": [
    "Based on the provided performance overview, the Support Vector Machine (SVM) model emerges as the best performing model for this natural language processing (NLP) task with an accuracy of 89.29%. It slightly edges out Logistic Regression, which also shows strong performance. The key advantages of SVM in the context of NLP include its effectiveness in dealing with high-dimensional data and its capability to model non-linear relationships through the use of different kernels.\n",
    "\n",
    "Given the task's nature—sentiment analysis on textual data, which often involves high-dimensional sparse datasets—the SVM's ability to handle such complexities efficiently makes it particularly suitable. Furthermore, SVMs are known for their robustness in classification tasks, making them a compelling choice for a wide range of NLP applications."
   ]
  },
  {
   "cell_type": "markdown",
   "id": "7e7c97eb",
   "metadata": {
    "id": "7e7c97eb"
   },
   "source": [
    "# Implementing SVM for Sentiment Prediction\n",
    "Below is a conceptual outline on how to use the SVM model for predicting sentiments from text inputs like the examples provided. This approach involves preprocessing text data, converting it into TF-IDF features, and then using the trained SVM model to predict sentiments. It also includes steps on how you could input data or take the output of an Excel sheet to get sentiment predictions.\n",
    "\n"
   ]
  },
  {
   "cell_type": "code",
   "execution_count": 20,
   "id": "3c105851",
   "metadata": {
    "executionInfo": {
     "elapsed": 4793,
     "status": "ok",
     "timestamp": 1726102317229,
     "user": {
      "displayName": "Duc Nguyen Minh",
      "userId": "03975086604803073654"
     },
     "user_tz": -420
    },
    "id": "3c105851"
   },
   "outputs": [],
   "source": [
    "import pandas as pd\n",
    "import re\n",
    "import string\n",
    "from sklearn.model_selection import train_test_split\n",
    "from sklearn.feature_extraction.text import TfidfVectorizer\n",
    "from sklearn.svm import SVC\n",
    "from sklearn.metrics import accuracy_score, classification_report\n",
    "\n",
    "# Function to remove HTML tags\n",
    "def remove_html_tags(text):\n",
    "    clean_text = re.sub(r'<br\\s*/?>', ' ', text)  # Replace br tags with spaces\n",
    "    clean_text = re.sub(r'<.*?>', '', clean_text)  # Remove all other HTML tags\n",
    "    return clean_text\n",
    "\n",
    "# Load the dataset\n",
    "df = pd.read_csv(r'IMDB Dataset.csv')\n",
    "\n",
    "# Preprocess the text data\n",
    "df['review_clean'] = df['review'].apply(lambda x: remove_html_tags(x).lower())\n",
    "df['review_clean'] = df['review_clean'].apply(lambda x: x.translate(str.maketrans('', '', string.punctuation)))\n",
    "\n",
    "# Split data into training and testing sets\n",
    "X_train, X_test, y_train, y_test = train_test_split(df['review_clean'], df['sentiment'], test_size=0.2, random_state=42)\n",
    "\n"
   ]
  },
  {
   "cell_type": "code",
   "execution_count": 21,
   "id": "347c4770",
   "metadata": {
    "colab": {
     "base_uri": "https://localhost:8080/"
    },
    "executionInfo": {
     "elapsed": 6,
     "status": "ok",
     "timestamp": 1726102329601,
     "user": {
      "displayName": "Duc Nguyen Minh",
      "userId": "03975086604803073654"
     },
     "user_tz": -420
    },
    "id": "347c4770",
    "outputId": "ecb99005-9d00-45c8-9595-a60c200fa4f0"
   },
   "outputs": [
    {
     "name": "stdout",
     "output_type": "stream",
     "text": [
      "0    one of the other reviewers has mentioned that ...\n",
      "1    a wonderful little production   the filming te...\n",
      "2    i thought this was a wonderful way to spend ti...\n",
      "3    basically theres a family where a little boy j...\n",
      "4    petter matteis love in the time of money is a ...\n",
      "Name: review_clean, dtype: object\n"
     ]
    }
   ],
   "source": [
    "# Now, let's preview the first 5 entries of the cleaned reviews\n",
    "print(df['review_clean'].head())"
   ]
  },
  {
   "cell_type": "markdown",
   "id": "e653793b",
   "metadata": {
    "id": "e653793b"
   },
   "source": [
    "This summary outlines the process of using the Term Frequency-Inverse Document Frequency (TF-IDF) vectorization and a Support Vector Machine (SVM) classifier for text classification:\n",
    "\n",
    "## TF-IDF Vectorization:\n",
    "A TfidfVectorizer is initialized with a limit of 5000 maximum features to transform text data into numerical data. This process involves calculating the importance of each word in the documents relative to the corpus.\n",
    "The vectorizer is fitted to the training data (X_train) to learn the vocabulary and idf (inverse document frequency) from it. The training data is then transformed into a matrix of TF-IDF features.\n",
    "The same transformation (without fitting) is applied to the test data (X_test) to obtain its matrix of TF-IDF features, ensuring that both training and testing data are on the same scale and have the same feature space.\n",
    "SVM Classifier:\n",
    "\n",
    "An SVM classifier with a linear kernel is initialized, setting a specific random state for reproducibility. SVM is chosen for its effectiveness in high-dimensional spaces (like TF-IDF features) and its ability to classify complex datasets.\n",
    "The SVM model is trained on the training dataset (X_train_tfidf, y_train) using the TF-IDF features to learn the distinctions among the classes.\n",
    "After training, the SVM model is used to predict the labels for the test dataset (X_test_tfidf).\n",
    "Evaluation:\n",
    "\n",
    "The accuracy of the SVM model on the test data is calculated by comparing the predicted labels (svm_pred) against the actual labels (y_test). This metric gives a straightforward assessment of the model's performance in classifying the texts correctly.\n",
    "This procedure illustrates a common approach in text classification tasks, leveraging the strengths of TF-IDF for text representation and SVM for classification, to achieve a predictive model capable of accurately classifying unseen text data based on learned patterns from the training dataset."
   ]
  },
  {
   "cell_type": "code",
   "execution_count": 22,
   "id": "99d309fb",
   "metadata": {
    "colab": {
     "base_uri": "https://localhost:8080/"
    },
    "executionInfo": {
     "elapsed": 1319836,
     "status": "ok",
     "timestamp": 1726103652971,
     "user": {
      "displayName": "Duc Nguyen Minh",
      "userId": "03975086604803073654"
     },
     "user_tz": -420
    },
    "id": "99d309fb",
    "outputId": "48613a30-0966-4b69-ac95-27a9f15b8e51"
   },
   "outputs": [
    {
     "name": "stdout",
     "output_type": "stream",
     "text": [
      "SVM Accuracy: 0.8954\n",
      "              precision    recall  f1-score   support\n",
      "\n",
      "    negative       0.90      0.89      0.89      4961\n",
      "    positive       0.89      0.91      0.90      5039\n",
      "\n",
      "    accuracy                           0.90     10000\n",
      "   macro avg       0.90      0.90      0.90     10000\n",
      "weighted avg       0.90      0.90      0.90     10000\n",
      "\n"
     ]
    }
   ],
   "source": [
    "# TF-IDF Vectorization\n",
    "# Initialize the TfidfVectorizer with a maximum of 5000 features.\n",
    "tfidf_vectorizer = TfidfVectorizer(max_features=5000)\n",
    "\n",
    "# Fit the vectorizer to the training data and transform the training data into TF-IDF features.\n",
    "X_train_tfidf = tfidf_vectorizer.fit_transform(X_train)\n",
    "\n",
    "# Transform the test data into TF-IDF features based on the vectorizer learned from the training data.\n",
    "X_test_tfidf = tfidf_vectorizer.transform(X_test)\n",
    "\n",
    "# SVM Classifier\n",
    "# Initialize the Support Vector Machine (SVM) classifier with a linear kernel and a specific random state for reproducibility.\n",
    "svm_model = SVC(kernel='linear', random_state=42)\n",
    "\n",
    "# Train the SVM classifier on the training data set using the TF-IDF features.\n",
    "svm_model.fit(X_train_tfidf, y_train)\n",
    "\n",
    "# Evaluate the model on the test set\n",
    "# Predict the labels for the test data.\n",
    "svm_pred = svm_model.predict(X_test_tfidf)\n",
    "\n",
    "# Calculate the accuracy of the SVM model on the test data.\n",
    "svm_accuracy = accuracy_score(y_test, svm_pred)\n",
    "\n",
    "# Print the accuracy of the SVM model.\n",
    "print(\"SVM Accuracy:\", svm_accuracy)\n",
    "\n",
    "# Print a detailed classification report that includes precision, recall, f1-score, and support for each class.\n",
    "print(classification_report(y_test, svm_pred))\n",
    "\n"
   ]
  },
  {
   "cell_type": "markdown",
   "id": "572ca57f",
   "metadata": {
    "id": "572ca57f"
   },
   "source": [
    "### Function Overview:\n",
    "The function predict_sentiment is defined to take in a list of sample texts, a TF-IDF vectorizer, and a trained SVM model. Its primary role is to preprocess given texts, convert them into TF-IDF features, and then predict the sentiment of each text using the SVM model.\n",
    "\n",
    "### TF-IDF Transformation:\n",
    "After preprocessing, the texts are transformed into TF-IDF features. This step involves using the TF-IDF vectorizer, which has been previously trained (possibly on a larger corpus of texts), to convert the preprocessed texts into a numerical format that represents the importance of words within the texts. This transformation is essential for the SVM model to understand and make predictions.\n",
    "\n",
    "### Sentiment Prediction:\n",
    "The SVM model, already trained on TF-IDF features of a labeled dataset, predicts the sentiment of each preprocessed and vectorized text. The SVM model uses the learned patterns from the training phase to classify each text as either positive or negative sentiment.\n"
   ]
  },
  {
   "cell_type": "code",
   "execution_count": 23,
   "id": "0fda1167",
   "metadata": {
    "colab": {
     "base_uri": "https://localhost:8080/"
    },
    "executionInfo": {
     "elapsed": 658,
     "status": "ok",
     "timestamp": 1726104003264,
     "user": {
      "displayName": "Duc Nguyen Minh",
      "userId": "03975086604803073654"
     },
     "user_tz": -420
    },
    "id": "0fda1167",
    "outputId": "e22de83b-f8f8-488d-b0cf-846280c7da70"
   },
   "outputs": [
    {
     "name": "stdout",
     "output_type": "stream",
     "text": [
      "This movie was a great watch with brilliant performances and a gripping plot! -> Positive\n",
      "An absolute waste of time, the worst movie I've seen in a long while. -> Negative\n",
      "I am happy. -> Positive\n",
      "I am sad. -> Negative\n"
     ]
    }
   ],
   "source": [
    "# Example text to predict sentiment\n",
    "# Define a list of sample texts for sentiment analysis.\n",
    "sample_texts = [\n",
    "    \"This movie was a great watch with brilliant performances and a gripping plot!\",\n",
    "    \"An absolute waste of time, the worst movie I've seen in a long while.\",\n",
    "    \"I am happy.\",\n",
    "    \"I am sad.\"\n",
    "]\n",
    "\n",
    "# Function to preprocess and predict sentiment\n",
    "def predict_sentiment(sample_texts, tfidf_vectorizer, svm_model):\n",
    "    # Preprocess the sample texts: remove HTML tags, convert to lowercase, and remove punctuation.\n",
    "    preprocessed_texts = [remove_html_tags(text).lower().translate(str.maketrans('', '', string.punctuation))\n",
    "                          for text in sample_texts]\n",
    "\n",
    "    # Transform the preprocessed texts into TF-IDF features based on the trained vectorizer.\n",
    "    tfidf_features = tfidf_vectorizer.transform(preprocessed_texts)\n",
    "\n",
    "    # Use the trained SVM model to predict the sentiment of each sample text.\n",
    "    predictions = svm_model.predict(tfidf_features)\n",
    "\n",
    "    # Return the list of predicted sentiments.\n",
    "    return predictions\n",
    "\n",
    "# Predict sentiments\n",
    "# Call the predict_sentiment function with the sample texts, TF-IDF vectorizer, and trained SVM model.\n",
    "sentiments = predict_sentiment(sample_texts, tfidf_vectorizer, svm_model)\n",
    "\n",
    "# Iterate over each sample text and its predicted sentiment, printing them.\n",
    "for text, sentiment in zip(sample_texts, sentiments):\n",
    "    print(f\"{text} -> {'Positive' if sentiment == 'positive' else 'Negative'}\")\n"
   ]
  },
  {
   "cell_type": "markdown",
   "id": "59fa44a6",
   "metadata": {
    "id": "59fa44a6"
   },
   "source": [
    "# Final Thoughts\n",
    "The overall process involved tackling a binary sentiment classification problem using the IMDB movie review dataset, a standard benchmark in natural language processing (NLP) research. This dataset comprises 50,000 movie reviews, evenly split into 25,000 reviews for training and 25,000 for testing, with the goal of predicting the sentiment of each review (positive or negative). The challenge required not just applying machine learning models but also conducting a thorough exploratory data analysis (EDA) to understand the data better and improve model performance.\n",
    "\n",
    "### Model Development and Selection:\n",
    "The primary approach used TF-IDF vectorization for feature extraction, transforming text data into numerical form while capturing the importance of words in the documents relative to the corpus.\n",
    "Several models were experimented with, including Naive Bayes, Logistic Regression, and Support Vector Machine (SVM). Each model's performance was evaluated based on accuracy, precision, recall, and F1 score on the test set.\n",
    "The SVM model, particularly with a linear kernel, demonstrated the best overall performance, achieving an accuracy of approximately 89.54%. This model effectively captured the linear separability of TF-IDF features in high-dimensional space, making it well-suited for this sentiment analysis task.\n",
    "\n",
    "### Model Evaluation and Improvement:\n",
    "The final SVM model's performance was evaluated not just on the basis of its accuracy but also considering precision, recall, and F1 scores for both classes (positive and negative). The balanced performance across these metrics indicated a well-rounded model capable of handling both sentiment categories effectively.\n",
    "Despite the strong performance, there are several areas for improvement. Experimenting with deep learning models like LSTM or BERT could potentially capture contextual relationships between words better, enhancing accuracy. Additionally, further feature engineering, such as using n-grams or sentiment lexicons, could improve the signal captured from the text data.\n",
    "\n",
    "### Conclusion:\n",
    "The process of developing, training, and evaluating models for sentiment analysis on the IMDB dataset was both challenging and rewarding. It offered insights into the intricacies of NLP tasks and the importance of thorough data preprocessing and exploratory analysis. The SVM model emerged as the best performer among the tested models, demonstrating the effectiveness of traditional machine learning techniques in handling structured, high-dimensional data. However, the evolving landscape of NLP suggests that exploring newer, more complex models could yield further improvements. Overall, this project was a valuable exercise in applying machine learning to real-world text data, highlighting both the potential and the limitations of current methodologies.\n",
    "\n",
    "\n",
    "\n",
    "\n",
    "\n",
    "\n"
   ]
  },
  {
   "cell_type": "markdown",
   "id": "b6b72e9e",
   "metadata": {
    "id": "b6b72e9e"
   },
   "source": [
    "# Part 2:\n",
    "\n",
    "Embarking on a sentiment analysis project with the IMDB Dataset's 50,000 movie reviews, we aim to decode the complex world of human emotions using Natural Language Processing (NLP). Starting with foundational models like Logistic Regression and Support Vector Machines (SVM), we've achieved promising results, notably with SVM, showcasing an accuracy of 0.8954 and balanced metrics across sentiment classes.\n",
    "\n",
    "The journey doesn’t end there; the evolving landscape of NLP beckons us towards more advanced, transformer-based models such as BERT, T5, and others. These models, with their nuanced understanding of context, hold the promise of refining our sentiment analysis further. The Text-to-Text Transfer Transformer (T5), for instance, reimagines sentiment analysis as a simpler text-to-text task, leveraging its pre-training on diverse texts for enhanced accuracy in discerning movie review sentiments.\n",
    "\n",
    "Our methodical approach includes thorough Exploratory Data Analysis (EDA), ensuring we’re not just processing data, but understanding it, thereby refining our models for better performance. This project isn’t just about achieving high accuracy; it’s an opportunity to push the NLP field forward, exploring how advanced models can uncover deeper insights within text, and shaping future sentiment analysis research."
   ]
  },
  {
   "cell_type": "code",
   "execution_count": 27,
   "id": "d7378d1a",
   "metadata": {
    "colab": {
     "base_uri": "https://localhost:8080/"
    },
    "executionInfo": {
     "elapsed": 1085,
     "status": "ok",
     "timestamp": 1726104210258,
     "user": {
      "displayName": "Duc Nguyen Minh",
      "userId": "03975086604803073654"
     },
     "user_tz": -420
    },
    "id": "d7378d1a",
    "outputId": "857a7c36-3701-4120-b52f-f95d7724f6a8"
   },
   "outputs": [
    {
     "name": "stderr",
     "output_type": "stream",
     "text": [
      "No model was supplied, defaulted to distilbert/distilbert-base-uncased-finetuned-sst-2-english and revision af0f99b (https://huggingface.co/distilbert/distilbert-base-uncased-finetuned-sst-2-english).\n",
      "Using a pipeline without specifying a model name and revision in production is not recommended.\n",
      "Hardware accelerator e.g. GPU is available in the environment, but no `device` argument is passed to the `Pipeline` object. Model will be on CPU.\n"
     ]
    },
    {
     "name": "stdout",
     "output_type": "stream",
     "text": [
      "Original text: This movie was a great watch with brilliant performances and a gripping plot!\n",
      "Sentiment prediction: POSITIVE, with a confidence of 0.9999\n"
     ]
    }
   ],
   "source": [
    "# Import the pipeline function from the transformers library. This function allows for easy instantiation of models for various tasks.\n",
    "from transformers import pipeline\n",
    "\n",
    "# Load a pipeline for sentiment analysis with a pre-trained/fine-tuned model. This line creates a sentiment analysis classifier\n",
    "# that is ready to use, abstracting away the complexities of model loading, tokenization, and inference.\n",
    "classifier = pipeline(\"sentiment-analysis\")\n",
    "\n",
    "# Example text to analyze. This can be replaced with any string for which you'd like to analyze sentiment.\n",
    "text = \"This movie was a great watch with brilliant performances and a gripping plot!\"\n",
    "\n",
    "# Predict sentiment of the provided text. The classifier returns a list of dictionaries, with each dictionary containing the 'label'\n",
    "# (e.g., POSITIVE or NEGATIVE) and the 'score' (confidence level of the prediction).\n",
    "result = classifier(text)\n",
    "\n",
    "# Print the original text for reference.\n",
    "print(f\"Original text: {text}\")\n",
    "\n",
    "# Print the sentiment prediction and its confidence score. The result is indexed at [0] because our input is a single piece of text;\n",
    "# 'label' and 'score' keys are accessed from the dictionary to retrieve the sentiment and its confidence respectively.\n",
    "# The confidence score is formatted to four decimal places for readability.\n",
    "print(f\"Sentiment prediction: {result[0]['label']}, with a confidence of {result[0]['score']:.4f}\")\n"
   ]
  },
  {
   "cell_type": "markdown",
   "id": "6b149b49",
   "metadata": {
    "id": "6b149b49"
   },
   "source": [
    "The results showcase a sentiment analysis model's ability to evaluate and interpret the underlying sentiment of a text snippet, particularly a movie review in this instance. The original text provided, \"This movie was a great watch with brilliant performances and a gripping plot!\", clearly conveys a positive opinion about a movie, highlighting its enjoyable viewing experience, excellent performances, and compelling storyline.\n",
    "\n",
    "The sentiment analysis model's prediction, \"POSITIVE,\" aligns perfectly with the intuitive sentiment one would derive from the text. Furthermore, the model's confidence level of 0.9999 (on a scale from 0 to 1) indicates an extremely high certainty in its prediction. This level of confidence suggests that the model's internal mechanisms, likely trained on vast amounts of similar text data, have effectively learned to recognize the linguistic cues and constructs that typically signify positive sentiment."
   ]
  },
  {
   "cell_type": "markdown",
   "id": "044b16cc",
   "metadata": {
    "id": "044b16cc"
   },
   "source": [
    "Loads and preprocesses the IMDB dataset, removing HTML tags and converting texts to lowercase.\n",
    "Initializes a sentiment analysis pipeline with a specific pre-trained model.\n",
    "Truncates the first 100 reviews to ensure they don't exceed the model's maximum token limit, using a simplistic approach based on word count.\n",
    "Predicts the sentiment for these truncated reviews.\n",
    "Extracts the sentiment labels from the predictions.\n",
    "Creates a DataFrame containing the reviews and their predicted sentiments.\n",
    "Plots the distribution of predicted sentiments for a visual overview."
   ]
  },
  {
   "cell_type": "code",
   "execution_count": 28,
   "id": "5dfbc8e3",
   "metadata": {
    "executionInfo": {
     "elapsed": 867,
     "status": "ok",
     "timestamp": 1726104223346,
     "user": {
      "displayName": "Duc Nguyen Minh",
      "userId": "03975086604803073654"
     },
     "user_tz": -420
    },
    "id": "5dfbc8e3"
   },
   "outputs": [],
   "source": [
    "\n",
    "# Import necessary libraries\n",
    "import re  # Regular expressions for text processing\n",
    "import pandas as pd  # Pandas for data manipulation\n",
    "import matplotlib.pyplot as plt  # Matplotlib for plotting\n",
    "from transformers import pipeline  # Hugging Face Transformers for NLP tasks\n",
    "\n",
    "# Define a function to remove HTML tags from a text string\n",
    "def remove_html_tags(text):\n",
    "    # Replace <br> and <br/> tags with spaces. This is often needed for text from web or HTML sources\n",
    "    clean_text = re.sub(r'<br\\s*/?>', ' ', text)\n",
    "    # Remove all other HTML tags from the text, leaving only the text content\n",
    "    clean_text = re.sub(r'<.*?>', '', clean_text)\n",
    "    return clean_text  # Return the cleaned text\n",
    "\n",
    "# Define a function to truncate texts to a specified maximum word count\n",
    "def truncate_texts(sample_texts, max_length=250):  # Default max length set to 250 words\n",
    "    truncated_texts = []  # Initialize an empty list to store truncated texts\n",
    "    for text in sample_texts:  # Loop through each text in the provided list of texts\n",
    "        words = text.split()  # Split the text into individual words\n",
    "        truncated_text = \" \".join(words[:max_length])  # Join the first max_length words back into a string\n",
    "        truncated_texts.append(truncated_text)  # Add the truncated text to the list\n",
    "    return truncated_texts  # Return the list of truncated texts\n"
   ]
  },
  {
   "cell_type": "code",
   "execution_count": 30,
   "id": "979433d5",
   "metadata": {
    "colab": {
     "base_uri": "https://localhost:8080/",
     "height": 217,
     "referenced_widgets": [
      "5c190dc7b690482b96ee55d68ed7968f",
      "0fbcc6824cc34830af60dd6e42b338f7",
      "86eb91537e304c27ace36314b2a14c0b",
      "ccb78d8f58594f2d9c75e459a417ea37",
      "7fe8c5b9f61544bdb16d57c92cfe0632",
      "7f92deda452a471bb2019fbe0abd4e80",
      "634e495bd8d64f53a86b87f7bf1784ad",
      "8e45d3b71e3944b29c121fe367f7ebfc",
      "1fbc7587b542465aabb7ea0a91026df2",
      "9bc882561253450994a05bc0d881c5b7",
      "3a86068174cb44969d87b5772b5f7842",
      "f25409c3c5b443b79b8f1c8c9b9fc537",
      "ac0c1d49b68846fabe81ae30afffccf0",
      "62ebc310d99f423b84d030c6120717ef",
      "dd48457e2b4a4e2093ab8692eec8f573",
      "bc85fceede414cac8baaa89ea739012b",
      "1c38850be60f46eda0d5d13386226429",
      "c45ea18b9f61436cacb65929323622de",
      "45b6ea342dc44e41a15a09b342754afa",
      "ed68a4b847234b1aaa80a2497c94b92d",
      "d4c376d14bcd42d7b1edad58c679052d",
      "11c8539594794ad995f06fced755edce",
      "a88d6b5cb0134df0a7a9ba7fdc5211b6",
      "659e32ad238640b6921048407489b7fd",
      "e8fa73e3ca214f8b9616c26759daf54f",
      "3a61e05eaaa64db1acb640d399a48794",
      "4b80c05011764f5390db6f396d45262e",
      "c0cd661ef0f24a399fb1723742f9935a",
      "b1a87155effe4da0a3ef9e938fa68d36",
      "fc37df5f5c8846f5a44f7024ac2c8c1b",
      "c9491b2b68ba40e588c928e4a2c09707",
      "4d8d4b224bbe46b99d59a97136eecbe5",
      "2cd91846c81b44a981a559da5099771b",
      "96d7abf24fe4474fb9a7d7889b3d43fd",
      "8f7b8fbee6964a48a6f73c8a4003447d",
      "aaf83d08920f479892384250a98b5293",
      "7d4aaf42f9814e16b6a1841df05c6097",
      "9b9a91f9518f409d808313955930fd01",
      "db8bb9c420fe4dc184e8f8e6050e6fb2",
      "bfa83001472c4b778341e79e5ce4829f",
      "e5122ecedccb4cf28a193a32831e7318",
      "6d5ef389c94545359fc6495bd67242c8",
      "e74f55f7bfa744ffa8643502457b2eae",
      "7c97523a48bb4b3387c76b984871991b"
     ]
    },
    "executionInfo": {
     "elapsed": 5652,
     "status": "ok",
     "timestamp": 1726104277507,
     "user": {
      "displayName": "Duc Nguyen Minh",
      "userId": "03975086604803073654"
     },
     "user_tz": -420
    },
    "id": "979433d5",
    "outputId": "82b0b0ee-8f06-4afc-87bb-ebbccfe45fb6"
   },
   "outputs": [
    {
     "data": {
      "application/vnd.jupyter.widget-view+json": {
       "model_id": "5c190dc7b690482b96ee55d68ed7968f",
       "version_major": 2,
       "version_minor": 0
      },
      "text/plain": [
       "tokenizer_config.json:   0%|          | 0.00/48.0 [00:00<?, ?B/s]"
      ]
     },
     "metadata": {},
     "output_type": "display_data"
    },
    {
     "data": {
      "application/vnd.jupyter.widget-view+json": {
       "model_id": "f25409c3c5b443b79b8f1c8c9b9fc537",
       "version_major": 2,
       "version_minor": 0
      },
      "text/plain": [
       "config.json:   0%|          | 0.00/629 [00:00<?, ?B/s]"
      ]
     },
     "metadata": {},
     "output_type": "display_data"
    },
    {
     "data": {
      "application/vnd.jupyter.widget-view+json": {
       "model_id": "a88d6b5cb0134df0a7a9ba7fdc5211b6",
       "version_major": 2,
       "version_minor": 0
      },
      "text/plain": [
       "vocab.txt:   0%|          | 0.00/232k [00:00<?, ?B/s]"
      ]
     },
     "metadata": {},
     "output_type": "display_data"
    },
    {
     "name": "stderr",
     "output_type": "stream",
     "text": [
      "/usr/local/lib/python3.10/dist-packages/transformers/tokenization_utils_base.py:1601: FutureWarning: `clean_up_tokenization_spaces` was not set. It will be set to `True` by default. This behavior will be depracted in transformers v4.45, and will be then set to `False` by default. For more details check this issue: https://github.com/huggingface/transformers/issues/31884\n",
      "  warnings.warn(\n"
     ]
    },
    {
     "data": {
      "application/vnd.jupyter.widget-view+json": {
       "model_id": "96d7abf24fe4474fb9a7d7889b3d43fd",
       "version_major": 2,
       "version_minor": 0
      },
      "text/plain": [
       "model.safetensors:   0%|          | 0.00/268M [00:00<?, ?B/s]"
      ]
     },
     "metadata": {},
     "output_type": "display_data"
    },
    {
     "name": "stderr",
     "output_type": "stream",
     "text": [
      "Hardware accelerator e.g. GPU is available in the environment, but no `device` argument is passed to the `Pipeline` object. Model will be on CPU.\n"
     ]
    }
   ],
   "source": [
    "from transformers import pipeline, AutoTokenizer # Import the AutoTokenizer class\n",
    "# Load the tokenizer and sentiment analysis pipeline with the specified model\n",
    "tokenizer = AutoTokenizer.from_pretrained(\"distilbert-base-uncased-finetuned-sst-2-english\")\n",
    "classifier = pipeline(\"sentiment-analysis\", model=\"distilbert-base-uncased-finetuned-sst-2-english\")\n",
    "\n",
    "# Function to predict sentiment using the classifier pipeline with text truncation to handle maximum sequence length\n",
    "def predict_sentiment_batch(sample_texts, classifier, tokenizer):\n",
    "    truncated_texts = []\n",
    "    for text in sample_texts:\n",
    "        # Tokenize and truncate texts to fit the model's maximum length\n",
    "        tokens = tokenizer.encode(text, max_length=512, truncation=True)\n",
    "        truncated_text = tokenizer.decode(tokens)\n",
    "        truncated_texts.append(truncated_text)\n",
    "\n",
    "    predictions = classifier(truncated_texts)\n",
    "    return predictions\n"
   ]
  },
  {
   "cell_type": "markdown",
   "id": "ca90cdcd",
   "metadata": {
    "id": "ca90cdcd"
   },
   "source": [
    "Import Libraries: The necessary Python libraries are imported, including re for regular expressions, pandas for handling data, matplotlib.pyplot for creating plots, and pipeline from the transformers library for NLP tasks.\n",
    "\n",
    "HTML Tag Removal Function: A function remove_html_tags is defined to clean the review texts by removing HTML tags. This is essential for text preprocessing, ensuring that the input data to the model consists only of clean, plain text.\n",
    "\n",
    "Text Truncation Function: The truncate_texts function is introduced to limit the length of reviews. Since NLP models have a maximum token (word) limit for their inputs, this step ensures that the texts are within an acceptable length, using a rough word count to prevent exceeding the model's limits.\n",
    "\n",
    "Dataset Loading: The dataset is loaded into a pandas DataFrame from a specified CSV file path, which contains movie reviews that need sentiment analysis."
   ]
  },
  {
   "cell_type": "code",
   "execution_count": 31,
   "id": "59b12713",
   "metadata": {
    "colab": {
     "base_uri": "https://localhost:8080/"
    },
    "executionInfo": {
     "elapsed": 56148,
     "status": "ok",
     "timestamp": 1726104387164,
     "user": {
      "displayName": "Duc Nguyen Minh",
      "userId": "03975086604803073654"
     },
     "user_tz": -420
    },
    "id": "59b12713",
    "outputId": "cc95772b-a9cb-4406-e213-704a34b6e4bb"
   },
   "outputs": [
    {
     "name": "stderr",
     "output_type": "stream",
     "text": [
      "/usr/local/lib/python3.10/dist-packages/transformers/tokenization_utils_base.py:1601: FutureWarning: `clean_up_tokenization_spaces` was not set. It will be set to `True` by default. This behavior will be depracted in transformers v4.45, and will be then set to `False` by default. For more details check this issue: https://github.com/huggingface/transformers/issues/31884\n",
      "  warnings.warn(\n",
      "Hardware accelerator e.g. GPU is available in the environment, but no `device` argument is passed to the `Pipeline` object. Model will be on CPU.\n"
     ]
    }
   ],
   "source": [
    "# Load the dataset\n",
    "df = pd.read_csv(r'IMDB Dataset.csv')\n",
    "\n",
    "# Preprocess the dataset\n",
    "df['review_clean'] = df['review'].apply(lambda x: remove_html_tags(x).lower())\n",
    "\n",
    "# Initialize the sentiment analysis pipeline with the specified pre-trained model\n",
    "classifier = pipeline(\"sentiment-analysis\", model=\"distilbert-base-uncased-finetuned-sst-2-english\")\n",
    "\n",
    "# Select the top 100 cleaned reviews for sentiment prediction\n",
    "top_100_reviews = df['review_clean'].tolist()[:100]\n",
    "\n",
    "# Truncate reviews to avoid exceeding the model's max token limit\n",
    "truncated_texts = truncate_texts(top_100_reviews)\n",
    "\n",
    "# Predict sentiments for the truncated top 100 cleaned reviews\n",
    "predicted_sentiments_top_100 = classifier(truncated_texts)\n",
    "\n",
    "# Extract sentiment labels from the predictions\n",
    "sentiment_labels = [prediction['label'] for prediction in predicted_sentiments_top_100]\n"
   ]
  },
  {
   "cell_type": "code",
   "execution_count": 32,
   "id": "6c1531af",
   "metadata": {
    "colab": {
     "base_uri": "https://localhost:8080/",
     "height": 527
    },
    "executionInfo": {
     "elapsed": 729,
     "status": "ok",
     "timestamp": 1726104393334,
     "user": {
      "displayName": "Duc Nguyen Minh",
      "userId": "03975086604803073654"
     },
     "user_tz": -420
    },
    "id": "6c1531af",
    "outputId": "6432aab4-96d1-488b-942d-722d7e1c12ff"
   },
   "outputs": [
    {
     "data": {
      "image/png": "[encoded data removed]",
      "text/plain": [
       "<Figure size 640x480 with 1 Axes>"
      ]
     },
     "metadata": {},
     "output_type": "display_data"
    }
   ],
   "source": [
    "# Create a DataFrame for the top 100 reviews and their predicted sentiments\n",
    "df_top_100 = pd.DataFrame({\n",
    "    'review_clean': truncated_texts,\n",
    "    'predicted_sentiment': sentiment_labels\n",
    "})\n",
    "\n",
    "# Plot the distribution of predicted sentiments for the top 100 reviews\n",
    "df_top_100['predicted_sentiment'].value_counts().plot(kind='bar')\n",
    "plt.title('Distribution of Predicted Sentiments for Top 100 Reviews')\n",
    "plt.xlabel('Sentiment')\n",
    "plt.ylabel('Count')\n",
    "plt.show()\n",
    "\n"
   ]
  },
  {
   "cell_type": "markdown",
   "id": "40e6fe36",
   "metadata": {
    "id": "40e6fe36"
   },
   "source": [
    "\n",
    "\n",
    "Preprocessing: The dataset undergoes preprocessing where each review is cleaned (HTML tags are removed, and texts are converted to lowercase) to prepare the data for sentiment analysis.\n",
    "\n",
    "Sentiment Analysis Pipeline Initialization: A sentiment analysis pipeline is initialized using a specified pre-trained model (distilbert-base-uncased-finetuned-sst-2-english), which is designed to predict sentiments from text inputs.\n",
    "\n",
    "Data Selection and Truncation: The top 100 cleaned reviews are selected and truncated to ensure they meet the model's input requirements.\n",
    "\n",
    "Sentiment Prediction: The prepared texts are fed into the sentiment analysis pipeline, which predicts the sentiment (positive or negative) for each review.\n",
    "\n",
    "Results Compilation: A new DataFrame is created to compile the cleaned and truncated reviews alongside their predicted sentiments.\n",
    "\n",
    "Results Visualization: Finally, a bar plot is generated to visualize the distribution of predicted sentiments among the top 100 reviews, showcasing how many reviews were classified as positive or negative.\n",
    "\n",
    "Overall, this code is a complete workflow for preprocessing text data, performing sentiment analysis using a pre-trained NLP model, and visualizing the distribution of sentiments within a dataset of movie reviews."
   ]
  },
  {
   "cell_type": "markdown",
   "id": "97b0ed30",
   "metadata": {
    "id": "97b0ed30"
   },
   "source": [
    "# Conclusion\n",
    "The journey through sentiment analysis of the IMDB dataset has been both enlightening and promising. Starting with traditional machine learning models, we achieved commendable performance, as evidenced by the high accuracy and balanced precision, recall, and F1 scores achieved by models like SVM. However, the exploration underscored a pivotal realization: the field of NLP is rapidly evolving, and with it, the tools and models at our disposal for understanding human sentiment.\n",
    "\n",
    "Advanced models like T5, with its text-to-text transformation capability, exemplify the ongoing shift towards more sophisticated, flexible approaches to NLP tasks. These models not only promise improvements in accuracy but also offer the potential to uncover subtler nuances and deeper meanings within text, which traditional models might overlook.\n",
    "\n",
    "As we continue to push the boundaries of sentiment analysis, our work underscores the importance of continuous exploration and adaptation in the face of advancing technology. The insights gained from the IMDB dataset are a testament to the power of NLP to bridge the gap between raw data and meaningful understanding, paving the way for future research and applications that transcend beyond movie reviews to other domains where human sentiment plays a critical role.\n",
    "\n",
    "In conclusion, the evolution from SVM to transformer-based models in sentiment analysis marks a significant leap forward in our ability to decode the complexities of human emotion expressed through text. As we harness these advanced models, we open new doors to understanding not just movies, but the myriad ways in which language shapes our perception of the world."
   ]
  },
  {
   "cell_type": "code",
   "execution_count": null,
   "id": "27f102d7",
   "metadata": {
    "id": "27f102d7"
   },
   "outputs": [],
   "source": []
  }
 ],
 "metadata": {
  "accelerator": "GPU",
  "colab": {
   "gpuType": "T4",
   "provenance": []
  },
  "kernelspec": {
   "display_name": "Python 3 (ipykernel)",
   "language": "python",
   "name": "python3"
  },
  "language_info": {
   "codemirror_mode": {
    "name": "ipython",
    "version": 3
   },
   "file_extension": ".py",
   "mimetype": "text/x-python",
   "name": "python",
   "nbconvert_exporter": "python",
   "pygments_lexer": "ipython3",
   "version": "3.9.13"
  },
  "widgets": {
   "application/vnd.jupyter.widget-state+json": {
    "0fbcc6824cc34830af60dd6e42b338f7": {
     "model_module": "@jupyter-widgets/controls",
     "model_module_version": "1.5.0",
     "model_name": "HTMLModel",
     "state": {
      "_dom_classes": [],
      "_model_module": "@jupyter-widgets/controls",
      "_model_module_version": "1.5.0",
      "_model_name": "HTMLModel",
      "_view_count": null,
      "_view_module": "@jupyter-widgets/controls",
      "_view_module_version": "1.5.0",
      "_view_name": "HTMLView",
      "description": "",
      "description_tooltip": null,
      "layout": "IPY_MODEL_7f92deda452a471bb2019fbe0abd4e80",
      "placeholder": "​",
      "style": "IPY_MODEL_634e495bd8d64f53a86b87f7bf1784ad",
      "value": "tokenizer_config.json: 100%"
     }
    },
    "11c8539594794ad995f06fced755edce": {
     "model_module": "@jupyter-widgets/controls",
     "model_module_version": "1.5.0",
     "model_name": "DescriptionStyleModel",
     "state": {
      "_model_module": "@jupyter-widgets/controls",
      "_model_module_version": "1.5.0",
      "_model_name": "DescriptionStyleModel",
      "_view_count": null,
      "_view_module": "@jupyter-widgets/base",
      "_view_module_version": "1.2.0",
      "_view_name": "StyleView",
      "description_width": ""
     }
    },
    "1c38850be60f46eda0d5d13386226429": {
     "model_module": "@jupyter-widgets/base",
     "model_module_version": "1.2.0",
     "model_name": "LayoutModel",
     "state": {
      "_model_module": "@jupyter-widgets/base",
      "_model_module_version": "1.2.0",
      "_model_name": "LayoutModel",
      "_view_count": null,
      "_view_module": "@jupyter-widgets/base",
      "_view_module_version": "1.2.0",
      "_view_name": "LayoutView",
      "align_content": null,
      "align_items": null,
      "align_self": null,
      "border": null,
      "bottom": null,
      "display": null,
      "flex": null,
      "flex_flow": null,
      "grid_area": null,
      "grid_auto_columns": null,
      "grid_auto_flow": null,
      "grid_auto_rows": null,
      "grid_column": null,
      "grid_gap": null,
      "grid_row": null,
      "grid_template_areas": null,
      "grid_template_columns": null,
      "grid_template_rows": null,
      "height": null,
      "justify_content": null,
      "justify_items": null,
      "left": null,
      "margin": null,
      "max_height": null,
      "max_width": null,
      "min_height": null,
      "min_width": null,
      "object_fit": null,
      "object_position": null,
      "order": null,
      "overflow": null,
      "overflow_x": null,
      "overflow_y": null,
      "padding": null,
      "right": null,
      "top": null,
      "visibility": null,
      "width": null
     }
    },
    "1fbc7587b542465aabb7ea0a91026df2": {
     "model_module": "@jupyter-widgets/controls",
     "model_module_version": "1.5.0",
     "model_name": "ProgressStyleModel",
     "state": {
      "_model_module": "@jupyter-widgets/controls",
      "_model_module_version": "1.5.0",
      "_model_name": "ProgressStyleModel",
      "_view_count": null,
      "_view_module": "@jupyter-widgets/base",
      "_view_module_version": "1.2.0",
      "_view_name": "StyleView",
      "bar_color": null,
      "description_width": ""
     }
    },
    "2cd91846c81b44a981a559da5099771b": {
     "model_module": "@jupyter-widgets/controls",
     "model_module_version": "1.5.0",
     "model_name": "DescriptionStyleModel",
     "state": {
      "_model_module": "@jupyter-widgets/controls",
      "_model_module_version": "1.5.0",
      "_model_name": "DescriptionStyleModel",
      "_view_count": null,
      "_view_module": "@jupyter-widgets/base",
      "_view_module_version": "1.2.0",
      "_view_name": "StyleView",
      "description_width": ""
     }
    },
    "3a61e05eaaa64db1acb640d399a48794": {
     "model_module": "@jupyter-widgets/controls",
     "model_module_version": "1.5.0",
     "model_name": "HTMLModel",
     "state": {
      "_dom_classes": [],
      "_model_module": "@jupyter-widgets/controls",
      "_model_module_version": "1.5.0",
      "_model_name": "HTMLModel",
      "_view_count": null,
      "_view_module": "@jupyter-widgets/controls",
      "_view_module_version": "1.5.0",
      "_view_name": "HTMLView",
      "description": "",
      "description_tooltip": null,
      "layout": "IPY_MODEL_4d8d4b224bbe46b99d59a97136eecbe5",
      "placeholder": "​",
      "style": "IPY_MODEL_2cd91846c81b44a981a559da5099771b",
      "value": " 232k/232k [00:00&lt;00:00, 4.50MB/s]"
     }
    },
    "3a86068174cb44969d87b5772b5f7842": {
     "model_module": "@jupyter-widgets/controls",
     "model_module_version": "1.5.0",
     "model_name": "DescriptionStyleModel",
     "state": {
      "_model_module": "@jupyter-widgets/controls",
      "_model_module_version": "1.5.0",
      "_model_name": "DescriptionStyleModel",
      "_view_count": null,
      "_view_module": "@jupyter-widgets/base",
      "_view_module_version": "1.2.0",
      "_view_name": "StyleView",
      "description_width": ""
     }
    },
    "45b6ea342dc44e41a15a09b342754afa": {
     "model_module": "@jupyter-widgets/base",
     "model_module_version": "1.2.0",
     "model_name": "LayoutModel",
     "state": {
      "_model_module": "@jupyter-widgets/base",
      "_model_module_version": "1.2.0",
      "_model_name": "LayoutModel",
      "_view_count": null,
      "_view_module": "@jupyter-widgets/base",
      "_view_module_version": "1.2.0",
      "_view_name": "LayoutView",
      "align_content": null,
      "align_items": null,
      "align_self": null,
      "border": null,
      "bottom": null,
      "display": null,
      "flex": null,
      "flex_flow": null,
      "grid_area": null,
      "grid_auto_columns": null,
      "grid_auto_flow": null,
      "grid_auto_rows": null,
      "grid_column": null,
      "grid_gap": null,
      "grid_row": null,
      "grid_template_areas": null,
      "grid_template_columns": null,
      "grid_template_rows": null,
      "height": null,
      "justify_content": null,
      "justify_items": null,
      "left": null,
      "margin": null,
      "max_height": null,
      "max_width": null,
      "min_height": null,
      "min_width": null,
      "object_fit": null,
      "object_position": null,
      "order": null,
      "overflow": null,
      "overflow_x": null,
      "overflow_y": null,
      "padding": null,
      "right": null,
      "top": null,
      "visibility": null,
      "width": null
     }
    },
    "4b80c05011764f5390db6f396d45262e": {
     "model_module": "@jupyter-widgets/base",
     "model_module_version": "1.2.0",
     "model_name": "LayoutModel",
     "state": {
      "_model_module": "@jupyter-widgets/base",
      "_model_module_version": "1.2.0",
      "_model_name": "LayoutModel",
      "_view_count": null,
      "_view_module": "@jupyter-widgets/base",
      "_view_module_version": "1.2.0",
      "_view_name": "LayoutView",
      "align_content": null,
      "align_items": null,
      "align_self": null,
      "border": null,
      "bottom": null,
      "display": null,
      "flex": null,
      "flex_flow": null,
      "grid_area": null,
      "grid_auto_columns": null,
      "grid_auto_flow": null,
      "grid_auto_rows": null,
      "grid_column": null,
      "grid_gap": null,
      "grid_row": null,
      "grid_template_areas": null,
      "grid_template_columns": null,
      "grid_template_rows": null,
      "height": null,
      "justify_content": null,
      "justify_items": null,
      "left": null,
      "margin": null,
      "max_height": null,
      "max_width": null,
      "min_height": null,
      "min_width": null,
      "object_fit": null,
      "object_position": null,
      "order": null,
      "overflow": null,
      "overflow_x": null,
      "overflow_y": null,
      "padding": null,
      "right": null,
      "top": null,
      "visibility": null,
      "width": null
     }
    },
    "4d8d4b224bbe46b99d59a97136eecbe5": {
     "model_module": "@jupyter-widgets/base",
     "model_module_version": "1.2.0",
     "model_name": "LayoutModel",
     "state": {
      "_model_module": "@jupyter-widgets/base",
      "_model_module_version": "1.2.0",
      "_model_name": "LayoutModel",
      "_view_count": null,
      "_view_module": "@jupyter-widgets/base",
      "_view_module_version": "1.2.0",
      "_view_name": "LayoutView",
      "align_content": null,
      "align_items": null,
      "align_self": null,
      "border": null,
      "bottom": null,
      "display": null,
      "flex": null,
      "flex_flow": null,
      "grid_area": null,
      "grid_auto_columns": null,
      "grid_auto_flow": null,
      "grid_auto_rows": null,
      "grid_column": null,
      "grid_gap": null,
      "grid_row": null,
      "grid_template_areas": null,
      "grid_template_columns": null,
      "grid_template_rows": null,
      "height": null,
      "justify_content": null,
      "justify_items": null,
      "left": null,
      "margin": null,
      "max_height": null,
      "max_width": null,
      "min_height": null,
      "min_width": null,
      "object_fit": null,
      "object_position": null,
      "order": null,
      "overflow": null,
      "overflow_x": null,
      "overflow_y": null,
      "padding": null,
      "right": null,
      "top": null,
      "visibility": null,
      "width": null
     }
    },
    "5c190dc7b690482b96ee55d68ed7968f": {
     "model_module": "@jupyter-widgets/controls",
     "model_module_version": "1.5.0",
     "model_name": "HBoxModel",
     "state": {
      "_dom_classes": [],
      "_model_module": "@jupyter-widgets/controls",
      "_model_module_version": "1.5.0",
      "_model_name": "HBoxModel",
      "_view_count": null,
      "_view_module": "@jupyter-widgets/controls",
      "_view_module_version": "1.5.0",
      "_view_name": "HBoxView",
      "box_style": "",
      "children": [
       "IPY_MODEL_0fbcc6824cc34830af60dd6e42b338f7",
       "IPY_MODEL_86eb91537e304c27ace36314b2a14c0b",
       "IPY_MODEL_ccb78d8f58594f2d9c75e459a417ea37"
      ],
      "layout": "IPY_MODEL_7fe8c5b9f61544bdb16d57c92cfe0632"
     }
    },
    "62ebc310d99f423b84d030c6120717ef": {
     "model_module": "@jupyter-widgets/controls",
     "model_module_version": "1.5.0",
     "model_name": "FloatProgressModel",
     "state": {
      "_dom_classes": [],
      "_model_module": "@jupyter-widgets/controls",
      "_model_module_version": "1.5.0",
      "_model_name": "FloatProgressModel",
      "_view_count": null,
      "_view_module": "@jupyter-widgets/controls",
      "_view_module_version": "1.5.0",
      "_view_name": "ProgressView",
      "bar_style": "success",
      "description": "",
      "description_tooltip": null,
      "layout": "IPY_MODEL_45b6ea342dc44e41a15a09b342754afa",
      "max": 629,
      "min": 0,
      "orientation": "horizontal",
      "style": "IPY_MODEL_ed68a4b847234b1aaa80a2497c94b92d",
      "value": 629
     }
    },
    "634e495bd8d64f53a86b87f7bf1784ad": {
     "model_module": "@jupyter-widgets/controls",
     "model_module_version": "1.5.0",
     "model_name": "DescriptionStyleModel",
     "state": {
      "_model_module": "@jupyter-widgets/controls",
      "_model_module_version": "1.5.0",
      "_model_name": "DescriptionStyleModel",
      "_view_count": null,
      "_view_module": "@jupyter-widgets/base",
      "_view_module_version": "1.2.0",
      "_view_name": "StyleView",
      "description_width": ""
     }
    },
    "659e32ad238640b6921048407489b7fd": {
     "model_module": "@jupyter-widgets/controls",
     "model_module_version": "1.5.0",
     "model_name": "HTMLModel",
     "state": {
      "_dom_classes": [],
      "_model_module": "@jupyter-widgets/controls",
      "_model_module_version": "1.5.0",
      "_model_name": "HTMLModel",
      "_view_count": null,
      "_view_module": "@jupyter-widgets/controls",
      "_view_module_version": "1.5.0",
      "_view_name": "HTMLView",
      "description": "",
      "description_tooltip": null,
      "layout": "IPY_MODEL_c0cd661ef0f24a399fb1723742f9935a",
      "placeholder": "​",
      "style": "IPY_MODEL_b1a87155effe4da0a3ef9e938fa68d36",
      "value": "vocab.txt: 100%"
     }
    },
    "6d5ef389c94545359fc6495bd67242c8": {
     "model_module": "@jupyter-widgets/controls",
     "model_module_version": "1.5.0",
     "model_name": "ProgressStyleModel",
     "state": {
      "_model_module": "@jupyter-widgets/controls",
      "_model_module_version": "1.5.0",
      "_model_name": "ProgressStyleModel",
      "_view_count": null,
      "_view_module": "@jupyter-widgets/base",
      "_view_module_version": "1.2.0",
      "_view_name": "StyleView",
      "bar_color": null,
      "description_width": ""
     }
    },
    "7c97523a48bb4b3387c76b984871991b": {
     "model_module": "@jupyter-widgets/controls",
     "model_module_version": "1.5.0",
     "model_name": "DescriptionStyleModel",
     "state": {
      "_model_module": "@jupyter-widgets/controls",
      "_model_module_version": "1.5.0",
      "_model_name": "DescriptionStyleModel",
      "_view_count": null,
      "_view_module": "@jupyter-widgets/base",
      "_view_module_version": "1.2.0",
      "_view_name": "StyleView",
      "description_width": ""
     }
    },
    "7d4aaf42f9814e16b6a1841df05c6097": {
     "model_module": "@jupyter-widgets/controls",
     "model_module_version": "1.5.0",
     "model_name": "HTMLModel",
     "state": {
      "_dom_classes": [],
      "_model_module": "@jupyter-widgets/controls",
      "_model_module_version": "1.5.0",
      "_model_name": "HTMLModel",
      "_view_count": null,
      "_view_module": "@jupyter-widgets/controls",
      "_view_module_version": "1.5.0",
      "_view_name": "HTMLView",
      "description": "",
      "description_tooltip": null,
      "layout": "IPY_MODEL_e74f55f7bfa744ffa8643502457b2eae",
      "placeholder": "​",
      "style": "IPY_MODEL_7c97523a48bb4b3387c76b984871991b",
      "value": " 268M/268M [00:01&lt;00:00, 160MB/s]"
     }
    },
    "7f92deda452a471bb2019fbe0abd4e80": {
     "model_module": "@jupyter-widgets/base",
     "model_module_version": "1.2.0",
     "model_name": "LayoutModel",
     "state": {
      "_model_module": "@jupyter-widgets/base",
      "_model_module_version": "1.2.0",
      "_model_name": "LayoutModel",
      "_view_count": null,
      "_view_module": "@jupyter-widgets/base",
      "_view_module_version": "1.2.0",
      "_view_name": "LayoutView",
      "align_content": null,
      "align_items": null,
      "align_self": null,
      "border": null,
      "bottom": null,
      "display": null,
      "flex": null,
      "flex_flow": null,
      "grid_area": null,
      "grid_auto_columns": null,
      "grid_auto_flow": null,
      "grid_auto_rows": null,
      "grid_column": null,
      "grid_gap": null,
      "grid_row": null,
      "grid_template_areas": null,
      "grid_template_columns": null,
      "grid_template_rows": null,
      "height": null,
      "justify_content": null,
      "justify_items": null,
      "left": null,
      "margin": null,
      "max_height": null,
      "max_width": null,
      "min_height": null,
      "min_width": null,
      "object_fit": null,
      "object_position": null,
      "order": null,
      "overflow": null,
      "overflow_x": null,
      "overflow_y": null,
      "padding": null,
      "right": null,
      "top": null,
      "visibility": null,
      "width": null
     }
    },
    "7fe8c5b9f61544bdb16d57c92cfe0632": {
     "model_module": "@jupyter-widgets/base",
     "model_module_version": "1.2.0",
     "model_name": "LayoutModel",
     "state": {
      "_model_module": "@jupyter-widgets/base",
      "_model_module_version": "1.2.0",
      "_model_name": "LayoutModel",
      "_view_count": null,
      "_view_module": "@jupyter-widgets/base",
      "_view_module_version": "1.2.0",
      "_view_name": "LayoutView",
      "align_content": null,
      "align_items": null,
      "align_self": null,
      "border": null,
      "bottom": null,
      "display": null,
      "flex": null,
      "flex_flow": null,
      "grid_area": null,
      "grid_auto_columns": null,
      "grid_auto_flow": null,
      "grid_auto_rows": null,
      "grid_column": null,
      "grid_gap": null,
      "grid_row": null,
      "grid_template_areas": null,
      "grid_template_columns": null,
      "grid_template_rows": null,
      "height": null,
      "justify_content": null,
      "justify_items": null,
      "left": null,
      "margin": null,
      "max_height": null,
      "max_width": null,
      "min_height": null,
      "min_width": null,
      "object_fit": null,
      "object_position": null,
      "order": null,
      "overflow": null,
      "overflow_x": null,
      "overflow_y": null,
      "padding": null,
      "right": null,
      "top": null,
      "visibility": null,
      "width": null
     }
    },
    "86eb91537e304c27ace36314b2a14c0b": {
     "model_module": "@jupyter-widgets/controls",
     "model_module_version": "1.5.0",
     "model_name": "FloatProgressModel",
     "state": {
      "_dom_classes": [],
      "_model_module": "@jupyter-widgets/controls",
      "_model_module_version": "1.5.0",
      "_model_name": "FloatProgressModel",
      "_view_count": null,
      "_view_module": "@jupyter-widgets/controls",
      "_view_module_version": "1.5.0",
      "_view_name": "ProgressView",
      "bar_style": "success",
      "description": "",
      "description_tooltip": null,
      "layout": "IPY_MODEL_8e45d3b71e3944b29c121fe367f7ebfc",
      "max": 48,
      "min": 0,
      "orientation": "horizontal",
      "style": "IPY_MODEL_1fbc7587b542465aabb7ea0a91026df2",
      "value": 48
     }
    },
    "8e45d3b71e3944b29c121fe367f7ebfc": {
     "model_module": "@jupyter-widgets/base",
     "model_module_version": "1.2.0",
     "model_name": "LayoutModel",
     "state": {
      "_model_module": "@jupyter-widgets/base",
      "_model_module_version": "1.2.0",
      "_model_name": "LayoutModel",
      "_view_count": null,
      "_view_module": "@jupyter-widgets/base",
      "_view_module_version": "1.2.0",
      "_view_name": "LayoutView",
      "align_content": null,
      "align_items": null,
      "align_self": null,
      "border": null,
      "bottom": null,
      "display": null,
      "flex": null,
      "flex_flow": null,
      "grid_area": null,
      "grid_auto_columns": null,
      "grid_auto_flow": null,
      "grid_auto_rows": null,
      "grid_column": null,
      "grid_gap": null,
      "grid_row": null,
      "grid_template_areas": null,
      "grid_template_columns": null,
      "grid_template_rows": null,
      "height": null,
      "justify_content": null,
      "justify_items": null,
      "left": null,
      "margin": null,
      "max_height": null,
      "max_width": null,
      "min_height": null,
      "min_width": null,
      "object_fit": null,
      "object_position": null,
      "order": null,
      "overflow": null,
      "overflow_x": null,
      "overflow_y": null,
      "padding": null,
      "right": null,
      "top": null,
      "visibility": null,
      "width": null
     }
    },
    "8f7b8fbee6964a48a6f73c8a4003447d": {
     "model_module": "@jupyter-widgets/controls",
     "model_module_version": "1.5.0",
     "model_name": "HTMLModel",
     "state": {
      "_dom_classes": [],
      "_model_module": "@jupyter-widgets/controls",
      "_model_module_version": "1.5.0",
      "_model_name": "HTMLModel",
      "_view_count": null,
      "_view_module": "@jupyter-widgets/controls",
      "_view_module_version": "1.5.0",
      "_view_name": "HTMLView",
      "description": "",
      "description_tooltip": null,
      "layout": "IPY_MODEL_db8bb9c420fe4dc184e8f8e6050e6fb2",
      "placeholder": "​",
      "style": "IPY_MODEL_bfa83001472c4b778341e79e5ce4829f",
      "value": "model.safetensors: 100%"
     }
    },
    "96d7abf24fe4474fb9a7d7889b3d43fd": {
     "model_module": "@jupyter-widgets/controls",
     "model_module_version": "1.5.0",
     "model_name": "HBoxModel",
     "state": {
      "_dom_classes": [],
      "_model_module": "@jupyter-widgets/controls",
      "_model_module_version": "1.5.0",
      "_model_name": "HBoxModel",
      "_view_count": null,
      "_view_module": "@jupyter-widgets/controls",
      "_view_module_version": "1.5.0",
      "_view_name": "HBoxView",
      "box_style": "",
      "children": [
       "IPY_MODEL_8f7b8fbee6964a48a6f73c8a4003447d",
       "IPY_MODEL_aaf83d08920f479892384250a98b5293",
       "IPY_MODEL_7d4aaf42f9814e16b6a1841df05c6097"
      ],
      "layout": "IPY_MODEL_9b9a91f9518f409d808313955930fd01"
     }
    },
    "9b9a91f9518f409d808313955930fd01": {
     "model_module": "@jupyter-widgets/base",
     "model_module_version": "1.2.0",
     "model_name": "LayoutModel",
     "state": {
      "_model_module": "@jupyter-widgets/base",
      "_model_module_version": "1.2.0",
      "_model_name": "LayoutModel",
      "_view_count": null,
      "_view_module": "@jupyter-widgets/base",
      "_view_module_version": "1.2.0",
      "_view_name": "LayoutView",
      "align_content": null,
      "align_items": null,
      "align_self": null,
      "border": null,
      "bottom": null,
      "display": null,
      "flex": null,
      "flex_flow": null,
      "grid_area": null,
      "grid_auto_columns": null,
      "grid_auto_flow": null,
      "grid_auto_rows": null,
      "grid_column": null,
      "grid_gap": null,
      "grid_row": null,
      "grid_template_areas": null,
      "grid_template_columns": null,
      "grid_template_rows": null,
      "height": null,
      "justify_content": null,
      "justify_items": null,
      "left": null,
      "margin": null,
      "max_height": null,
      "max_width": null,
      "min_height": null,
      "min_width": null,
      "object_fit": null,
      "object_position": null,
      "order": null,
      "overflow": null,
      "overflow_x": null,
      "overflow_y": null,
      "padding": null,
      "right": null,
      "top": null,
      "visibility": null,
      "width": null
     }
    },
    "9bc882561253450994a05bc0d881c5b7": {
     "model_module": "@jupyter-widgets/base",
     "model_module_version": "1.2.0",
     "model_name": "LayoutModel",
     "state": {
      "_model_module": "@jupyter-widgets/base",
      "_model_module_version": "1.2.0",
      "_model_name": "LayoutModel",
      "_view_count": null,
      "_view_module": "@jupyter-widgets/base",
      "_view_module_version": "1.2.0",
      "_view_name": "LayoutView",
      "align_content": null,
      "align_items": null,
      "align_self": null,
      "border": null,
      "bottom": null,
      "display": null,
      "flex": null,
      "flex_flow": null,
      "grid_area": null,
      "grid_auto_columns": null,
      "grid_auto_flow": null,
      "grid_auto_rows": null,
      "grid_column": null,
      "grid_gap": null,
      "grid_row": null,
      "grid_template_areas": null,
      "grid_template_columns": null,
      "grid_template_rows": null,
      "height": null,
      "justify_content": null,
      "justify_items": null,
      "left": null,
      "margin": null,
      "max_height": null,
      "max_width": null,
      "min_height": null,
      "min_width": null,
      "object_fit": null,
      "object_position": null,
      "order": null,
      "overflow": null,
      "overflow_x": null,
      "overflow_y": null,
      "padding": null,
      "right": null,
      "top": null,
      "visibility": null,
      "width": null
     }
    },
    "a88d6b5cb0134df0a7a9ba7fdc5211b6": {
     "model_module": "@jupyter-widgets/controls",
     "model_module_version": "1.5.0",
     "model_name": "HBoxModel",
     "state": {
      "_dom_classes": [],
      "_model_module": "@jupyter-widgets/controls",
      "_model_module_version": "1.5.0",
      "_model_name": "HBoxModel",
      "_view_count": null,
      "_view_module": "@jupyter-widgets/controls",
      "_view_module_version": "1.5.0",
      "_view_name": "HBoxView",
      "box_style": "",
      "children": [
       "IPY_MODEL_659e32ad238640b6921048407489b7fd",
       "IPY_MODEL_e8fa73e3ca214f8b9616c26759daf54f",
       "IPY_MODEL_3a61e05eaaa64db1acb640d399a48794"
      ],
      "layout": "IPY_MODEL_4b80c05011764f5390db6f396d45262e"
     }
    },
    "aaf83d08920f479892384250a98b5293": {
     "model_module": "@jupyter-widgets/controls",
     "model_module_version": "1.5.0",
     "model_name": "FloatProgressModel",
     "state": {
      "_dom_classes": [],
      "_model_module": "@jupyter-widgets/controls",
      "_model_module_version": "1.5.0",
      "_model_name": "FloatProgressModel",
      "_view_count": null,
      "_view_module": "@jupyter-widgets/controls",
      "_view_module_version": "1.5.0",
      "_view_name": "ProgressView",
      "bar_style": "success",
      "description": "",
      "description_tooltip": null,
      "layout": "IPY_MODEL_e5122ecedccb4cf28a193a32831e7318",
      "max": 267832558,
      "min": 0,
      "orientation": "horizontal",
      "style": "IPY_MODEL_6d5ef389c94545359fc6495bd67242c8",
      "value": 267832558
     }
    },
    "ac0c1d49b68846fabe81ae30afffccf0": {
     "model_module": "@jupyter-widgets/controls",
     "model_module_version": "1.5.0",
     "model_name": "HTMLModel",
     "state": {
      "_dom_classes": [],
      "_model_module": "@jupyter-widgets/controls",
      "_model_module_version": "1.5.0",
      "_model_name": "HTMLModel",
      "_view_count": null,
      "_view_module": "@jupyter-widgets/controls",
      "_view_module_version": "1.5.0",
      "_view_name": "HTMLView",
      "description": "",
      "description_tooltip": null,
      "layout": "IPY_MODEL_1c38850be60f46eda0d5d13386226429",
      "placeholder": "​",
      "style": "IPY_MODEL_c45ea18b9f61436cacb65929323622de",
      "value": "config.json: 100%"
     }
    },
    "b1a87155effe4da0a3ef9e938fa68d36": {
     "model_module": "@jupyter-widgets/controls",
     "model_module_version": "1.5.0",
     "model_name": "DescriptionStyleModel",
     "state": {
      "_model_module": "@jupyter-widgets/controls",
      "_model_module_version": "1.5.0",
      "_model_name": "DescriptionStyleModel",
      "_view_count": null,
      "_view_module": "@jupyter-widgets/base",
      "_view_module_version": "1.2.0",
      "_view_name": "StyleView",
      "description_width": ""
     }
    },
    "bc85fceede414cac8baaa89ea739012b": {
     "model_module": "@jupyter-widgets/base",
     "model_module_version": "1.2.0",
     "model_name": "LayoutModel",
     "state": {
      "_model_module": "@jupyter-widgets/base",
      "_model_module_version": "1.2.0",
      "_model_name": "LayoutModel",
      "_view_count": null,
      "_view_module": "@jupyter-widgets/base",
      "_view_module_version": "1.2.0",
      "_view_name": "LayoutView",
      "align_content": null,
      "align_items": null,
      "align_self": null,
      "border": null,
      "bottom": null,
      "display": null,
      "flex": null,
      "flex_flow": null,
      "grid_area": null,
      "grid_auto_columns": null,
      "grid_auto_flow": null,
      "grid_auto_rows": null,
      "grid_column": null,
      "grid_gap": null,
      "grid_row": null,
      "grid_template_areas": null,
      "grid_template_columns": null,
      "grid_template_rows": null,
      "height": null,
      "justify_content": null,
      "justify_items": null,
      "left": null,
      "margin": null,
      "max_height": null,
      "max_width": null,
      "min_height": null,
      "min_width": null,
      "object_fit": null,
      "object_position": null,
      "order": null,
      "overflow": null,
      "overflow_x": null,
      "overflow_y": null,
      "padding": null,
      "right": null,
      "top": null,
      "visibility": null,
      "width": null
     }
    },
    "bfa83001472c4b778341e79e5ce4829f": {
     "model_module": "@jupyter-widgets/controls",
     "model_module_version": "1.5.0",
     "model_name": "DescriptionStyleModel",
     "state": {
      "_model_module": "@jupyter-widgets/controls",
      "_model_module_version": "1.5.0",
      "_model_name": "DescriptionStyleModel",
      "_view_count": null,
      "_view_module": "@jupyter-widgets/base",
      "_view_module_version": "1.2.0",
      "_view_name": "StyleView",
      "description_width": ""
     }
    },
    "c0cd661ef0f24a399fb1723742f9935a": {
     "model_module": "@jupyter-widgets/base",
     "model_module_version": "1.2.0",
     "model_name": "LayoutModel",
     "state": {
      "_model_module": "@jupyter-widgets/base",
      "_model_module_version": "1.2.0",
      "_model_name": "LayoutModel",
      "_view_count": null,
      "_view_module": "@jupyter-widgets/base",
      "_view_module_version": "1.2.0",
      "_view_name": "LayoutView",
      "align_content": null,
      "align_items": null,
      "align_self": null,
      "border": null,
      "bottom": null,
      "display": null,
      "flex": null,
      "flex_flow": null,
      "grid_area": null,
      "grid_auto_columns": null,
      "grid_auto_flow": null,
      "grid_auto_rows": null,
      "grid_column": null,
      "grid_gap": null,
      "grid_row": null,
      "grid_template_areas": null,
      "grid_template_columns": null,
      "grid_template_rows": null,
      "height": null,
      "justify_content": null,
      "justify_items": null,
      "left": null,
      "margin": null,
      "max_height": null,
      "max_width": null,
      "min_height": null,
      "min_width": null,
      "object_fit": null,
      "object_position": null,
      "order": null,
      "overflow": null,
      "overflow_x": null,
      "overflow_y": null,
      "padding": null,
      "right": null,
      "top": null,
      "visibility": null,
      "width": null
     }
    },
    "c45ea18b9f61436cacb65929323622de": {
     "model_module": "@jupyter-widgets/controls",
     "model_module_version": "1.5.0",
     "model_name": "DescriptionStyleModel",
     "state": {
      "_model_module": "@jupyter-widgets/controls",
      "_model_module_version": "1.5.0",
      "_model_name": "DescriptionStyleModel",
      "_view_count": null,
      "_view_module": "@jupyter-widgets/base",
      "_view_module_version": "1.2.0",
      "_view_name": "StyleView",
      "description_width": ""
     }
    },
    "c9491b2b68ba40e588c928e4a2c09707": {
     "model_module": "@jupyter-widgets/controls",
     "model_module_version": "1.5.0",
     "model_name": "ProgressStyleModel",
     "state": {
      "_model_module": "@jupyter-widgets/controls",
      "_model_module_version": "1.5.0",
      "_model_name": "ProgressStyleModel",
      "_view_count": null,
      "_view_module": "@jupyter-widgets/base",
      "_view_module_version": "1.2.0",
      "_view_name": "StyleView",
      "bar_color": null,
      "description_width": ""
     }
    },
    "ccb78d8f58594f2d9c75e459a417ea37": {
     "model_module": "@jupyter-widgets/controls",
     "model_module_version": "1.5.0",
     "model_name": "HTMLModel",
     "state": {
      "_dom_classes": [],
      "_model_module": "@jupyter-widgets/controls",
      "_model_module_version": "1.5.0",
      "_model_name": "HTMLModel",
      "_view_count": null,
      "_view_module": "@jupyter-widgets/controls",
      "_view_module_version": "1.5.0",
      "_view_name": "HTMLView",
      "description": "",
      "description_tooltip": null,
      "layout": "IPY_MODEL_9bc882561253450994a05bc0d881c5b7",
      "placeholder": "​",
      "style": "IPY_MODEL_3a86068174cb44969d87b5772b5f7842",
      "value": " 48.0/48.0 [00:00&lt;00:00, 924B/s]"
     }
    },
    "d4c376d14bcd42d7b1edad58c679052d": {
     "model_module": "@jupyter-widgets/base",
     "model_module_version": "1.2.0",
     "model_name": "LayoutModel",
     "state": {
      "_model_module": "@jupyter-widgets/base",
      "_model_module_version": "1.2.0",
      "_model_name": "LayoutModel",
      "_view_count": null,
      "_view_module": "@jupyter-widgets/base",
      "_view_module_version": "1.2.0",
      "_view_name": "LayoutView",
      "align_content": null,
      "align_items": null,
      "align_self": null,
      "border": null,
      "bottom": null,
      "display": null,
      "flex": null,
      "flex_flow": null,
      "grid_area": null,
      "grid_auto_columns": null,
      "grid_auto_flow": null,
      "grid_auto_rows": null,
      "grid_column": null,
      "grid_gap": null,
      "grid_row": null,
      "grid_template_areas": null,
      "grid_template_columns": null,
      "grid_template_rows": null,
      "height": null,
      "justify_content": null,
      "justify_items": null,
      "left": null,
      "margin": null,
      "max_height": null,
      "max_width": null,
      "min_height": null,
      "min_width": null,
      "object_fit": null,
      "object_position": null,
      "order": null,
      "overflow": null,
      "overflow_x": null,
      "overflow_y": null,
      "padding": null,
      "right": null,
      "top": null,
      "visibility": null,
      "width": null
     }
    },
    "db8bb9c420fe4dc184e8f8e6050e6fb2": {
     "model_module": "@jupyter-widgets/base",
     "model_module_version": "1.2.0",
     "model_name": "LayoutModel",
     "state": {
      "_model_module": "@jupyter-widgets/base",
      "_model_module_version": "1.2.0",
      "_model_name": "LayoutModel",
      "_view_count": null,
      "_view_module": "@jupyter-widgets/base",
      "_view_module_version": "1.2.0",
      "_view_name": "LayoutView",
      "align_content": null,
      "align_items": null,
      "align_self": null,
      "border": null,
      "bottom": null,
      "display": null,
      "flex": null,
      "flex_flow": null,
      "grid_area": null,
      "grid_auto_columns": null,
      "grid_auto_flow": null,
      "grid_auto_rows": null,
      "grid_column": null,
      "grid_gap": null,
      "grid_row": null,
      "grid_template_areas": null,
      "grid_template_columns": null,
      "grid_template_rows": null,
      "height": null,
      "justify_content": null,
      "justify_items": null,
      "left": null,
      "margin": null,
      "max_height": null,
      "max_width": null,
      "min_height": null,
      "min_width": null,
      "object_fit": null,
      "object_position": null,
      "order": null,
      "overflow": null,
      "overflow_x": null,
      "overflow_y": null,
      "padding": null,
      "right": null,
      "top": null,
      "visibility": null,
      "width": null
     }
    },
    "dd48457e2b4a4e2093ab8692eec8f573": {
     "model_module": "@jupyter-widgets/controls",
     "model_module_version": "1.5.0",
     "model_name": "HTMLModel",
     "state": {
      "_dom_classes": [],
      "_model_module": "@jupyter-widgets/controls",
      "_model_module_version": "1.5.0",
      "_model_name": "HTMLModel",
      "_view_count": null,
      "_view_module": "@jupyter-widgets/controls",
      "_view_module_version": "1.5.0",
      "_view_name": "HTMLView",
      "description": "",
      "description_tooltip": null,
      "layout": "IPY_MODEL_d4c376d14bcd42d7b1edad58c679052d",
      "placeholder": "​",
      "style": "IPY_MODEL_11c8539594794ad995f06fced755edce",
      "value": " 629/629 [00:00&lt;00:00, 10.4kB/s]"
     }
    },
    "e5122ecedccb4cf28a193a32831e7318": {
     "model_module": "@jupyter-widgets/base",
     "model_module_version": "1.2.0",
     "model_name": "LayoutModel",
     "state": {
      "_model_module": "@jupyter-widgets/base",
      "_model_module_version": "1.2.0",
      "_model_name": "LayoutModel",
      "_view_count": null,
      "_view_module": "@jupyter-widgets/base",
      "_view_module_version": "1.2.0",
      "_view_name": "LayoutView",
      "align_content": null,
      "align_items": null,
      "align_self": null,
      "border": null,
      "bottom": null,
      "display": null,
      "flex": null,
      "flex_flow": null,
      "grid_area": null,
      "grid_auto_columns": null,
      "grid_auto_flow": null,
      "grid_auto_rows": null,
      "grid_column": null,
      "grid_gap": null,
      "grid_row": null,
      "grid_template_areas": null,
      "grid_template_columns": null,
      "grid_template_rows": null,
      "height": null,
      "justify_content": null,
      "justify_items": null,
      "left": null,
      "margin": null,
      "max_height": null,
      "max_width": null,
      "min_height": null,
      "min_width": null,
      "object_fit": null,
      "object_position": null,
      "order": null,
      "overflow": null,
      "overflow_x": null,
      "overflow_y": null,
      "padding": null,
      "right": null,
      "top": null,
      "visibility": null,
      "width": null
     }
    },
    "e74f55f7bfa744ffa8643502457b2eae": {
     "model_module": "@jupyter-widgets/base",
     "model_module_version": "1.2.0",
     "model_name": "LayoutModel",
     "state": {
      "_model_module": "@jupyter-widgets/base",
      "_model_module_version": "1.2.0",
      "_model_name": "LayoutModel",
      "_view_count": null,
      "_view_module": "@jupyter-widgets/base",
      "_view_module_version": "1.2.0",
      "_view_name": "LayoutView",
      "align_content": null,
      "align_items": null,
      "align_self": null,
      "border": null,
      "bottom": null,
      "display": null,
      "flex": null,
      "flex_flow": null,
      "grid_area": null,
      "grid_auto_columns": null,
      "grid_auto_flow": null,
      "grid_auto_rows": null,
      "grid_column": null,
      "grid_gap": null,
      "grid_row": null,
      "grid_template_areas": null,
      "grid_template_columns": null,
      "grid_template_rows": null,
      "height": null,
      "justify_content": null,
      "justify_items": null,
      "left": null,
      "margin": null,
      "max_height": null,
      "max_width": null,
      "min_height": null,
      "min_width": null,
      "object_fit": null,
      "object_position": null,
      "order": null,
      "overflow": null,
      "overflow_x": null,
      "overflow_y": null,
      "padding": null,
      "right": null,
      "top": null,
      "visibility": null,
      "width": null
     }
    },
    "e8fa73e3ca214f8b9616c26759daf54f": {
     "model_module": "@jupyter-widgets/controls",
     "model_module_version": "1.5.0",
     "model_name": "FloatProgressModel",
     "state": {
      "_dom_classes": [],
      "_model_module": "@jupyter-widgets/controls",
      "_model_module_version": "1.5.0",
      "_model_name": "FloatProgressModel",
      "_view_count": null,
      "_view_module": "@jupyter-widgets/controls",
      "_view_module_version": "1.5.0",
      "_view_name": "ProgressView",
      "bar_style": "success",
      "description": "",
      "description_tooltip": null,
      "layout": "IPY_MODEL_fc37df5f5c8846f5a44f7024ac2c8c1b",
      "max": 231508,
      "min": 0,
      "orientation": "horizontal",
      "style": "IPY_MODEL_c9491b2b68ba40e588c928e4a2c09707",
      "value": 231508
     }
    },
    "ed68a4b847234b1aaa80a2497c94b92d": {
     "model_module": "@jupyter-widgets/controls",
     "model_module_version": "1.5.0",
     "model_name": "ProgressStyleModel",
     "state": {
      "_model_module": "@jupyter-widgets/controls",
      "_model_module_version": "1.5.0",
      "_model_name": "ProgressStyleModel",
      "_view_count": null,
      "_view_module": "@jupyter-widgets/base",
      "_view_module_version": "1.2.0",
      "_view_name": "StyleView",
      "bar_color": null,
      "description_width": ""
     }
    },
    "f25409c3c5b443b79b8f1c8c9b9fc537": {
     "model_module": "@jupyter-widgets/controls",
     "model_module_version": "1.5.0",
     "model_name": "HBoxModel",
     "state": {
      "_dom_classes": [],
      "_model_module": "@jupyter-widgets/controls",
      "_model_module_version": "1.5.0",
      "_model_name": "HBoxModel",
      "_view_count": null,
      "_view_module": "@jupyter-widgets/controls",
      "_view_module_version": "1.5.0",
      "_view_name": "HBoxView",
      "box_style": "",
      "children": [
       "IPY_MODEL_ac0c1d49b68846fabe81ae30afffccf0",
       "IPY_MODEL_62ebc310d99f423b84d030c6120717ef",
       "IPY_MODEL_dd48457e2b4a4e2093ab8692eec8f573"
      ],
      "layout": "IPY_MODEL_bc85fceede414cac8baaa89ea739012b"
     }
    },
    "fc37df5f5c8846f5a44f7024ac2c8c1b": {
     "model_module": "@jupyter-widgets/base",
     "model_module_version": "1.2.0",
     "model_name": "LayoutModel",
     "state": {
      "_model_module": "@jupyter-widgets/base",
      "_model_module_version": "1.2.0",
      "_model_name": "LayoutModel",
      "_view_count": null,
      "_view_module": "@jupyter-widgets/base",
      "_view_module_version": "1.2.0",
      "_view_name": "LayoutView",
      "align_content": null,
      "align_items": null,
      "align_self": null,
      "border": null,
      "bottom": null,
      "display": null,
      "flex": null,
      "flex_flow": null,
      "grid_area": null,
      "grid_auto_columns": null,
      "grid_auto_flow": null,
      "grid_auto_rows": null,
      "grid_column": null,
      "grid_gap": null,
      "grid_row": null,
      "grid_template_areas": null,
      "grid_template_columns": null,
      "grid_template_rows": null,
      "height": null,
      "justify_content": null,
      "justify_items": null,
      "left": null,
      "margin": null,
      "max_height": null,
      "max_width": null,
      "min_height": null,
      "min_width": null,
      "object_fit": null,
      "object_position": null,
      "order": null,
      "overflow": null,
      "overflow_x": null,
      "overflow_y": null,
      "padding": null,
      "right": null,
      "top": null,
      "visibility": null,
      "width": null
     }
    }
   }
  }
 },
 "nbformat": 4,
 "nbformat_minor": 5
}
